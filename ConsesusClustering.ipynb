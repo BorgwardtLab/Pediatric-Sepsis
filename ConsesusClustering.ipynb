{
 "cells": [
  {
   "cell_type": "code",
   "execution_count": null,
   "id": "c48952de",
   "metadata": {},
   "outputs": [],
   "source": [
    "import pandas as pd\n",
    "pd.set_option(\"display.precision\", 3)\n",
    "import warnings\n",
    "warnings.filterwarnings(\"ignore\")\n",
    "import pickle\n",
    "from mvlearn.cluster import MultiviewKMeans\n",
    "from sklearn.cluster import KMeans\n",
    "import numpy as np\n",
    "import matplotlib.pyplot as plt\n",
    "from sklearn.preprocessing import StandardScaler\n",
    "from IPython.display import display\n",
    "import math\n",
    "import seaborn as sns\n",
    "sns.set_style('white')\n",
    "from ConsensusClusteringSingleView import ConsensusCluster"
   ]
  },
  {
   "cell_type": "code",
   "execution_count": null,
   "id": "d3aa98cc",
   "metadata": {},
   "outputs": [],
   "source": [
    "wd = '/cluster/work/borgw/SPSS/MultiOmicsAnalysis/ConsensusClustering/'\n",
    "os.chdir(wd)"
   ]
  },
  {
   "cell_type": "code",
   "execution_count": null,
   "id": "313aedb7",
   "metadata": {},
   "outputs": [],
   "source": [
    "def Consensus(name):\n",
    "    Mks = []\n",
    "    Aks = []\n",
    "    assignments = pd.DataFrame(columns=[2, 3, 4, 5, 6])   \n",
    "    for k in [2, 3, 4, 5, 6]:\n",
    "        data = pd.read_csv(\"data/TwoViewsKCC_{}_K_{}.csv\".format(name, k), index_col=0)\n",
    "            \n",
    "        cons = ConsensusCluster(KMeans, k, k+1, 100, resample_proportion=0.8)\n",
    "        cons.fit(data)\n",
    "        assert cons.Mk.shape[0] == 1\n",
    "        Mks.append(cons.Mk[0])\n",
    "        assignments[k] = cons.predict_data(data) + 1\n",
    "        \n",
    "    Aks = []\n",
    "    plt.figure(figsize=(12, 9))\n",
    "\n",
    "    for k in [2, 3, 4, 5, 6]:\n",
    "        hist, bins = np.histogram(Mks[k-2].ravel(), bins=50)\n",
    "        pdf = hist / sum(hist)\n",
    "        cdf = np.cumsum(pdf)\n",
    "        acdf = np.sum(h*(b-a) for b, a, h in zip(bins[1:], bins[:-1], cdf))\n",
    "        Aks.append(acdf)\n",
    "        plt.plot(bins[1:], cdf, label=k)\n",
    "\n",
    "    plt.legend(fontsize=16)\n",
    "    plt.title('CDF: {} view'.format(name), fontsize=25)\n",
    "    plt.ylim(-0.05, 1.05)\n",
    "    plt.tight_layout()\n",
    "    plt.savefig('CDF plots/CDF {} view.png'.format(name), dpi=300)\n",
    "    plt.show()\n",
    "    return assignments"
   ]
  },
  {
   "cell_type": "code",
   "execution_count": null,
   "id": "a4ff14e6",
   "metadata": {},
   "outputs": [],
   "source": [
    "for name in ['clinical', 'proteome']:\n",
    "    assignments = Consensus(name)\n",
    "    assignments.to_csv('data/{}ViewAssignments.csv'.format(name.capitalize()))"
   ]
  },
  {
   "cell_type": "markdown",
   "id": "1aa275be",
   "metadata": {},
   "source": [
    "# two views"
   ]
  },
  {
   "cell_type": "code",
   "execution_count": null,
   "id": "dfd4ed0e",
   "metadata": {},
   "outputs": [],
   "source": [
    "Mks = []\n",
    "Aks = []\n",
    "assignments = pd.DataFrame(columns=[2, 3, 4, 5, 6])\n",
    "for k in [2, 3, 4, 5, 6]:\n",
    "    clinical_view = pd.read_csv('data/TwoViewsKCC_clinical_K_{}.csv'.format(k), index_col=0)\n",
    "    proteome_view = pd.read_csv(\"data/TwoViewsKCC_proteome_K_{}.csv\".format(k), index_col=0)\n",
    "    \n",
    "    Xs = [clinical_view, proteome_view]\n",
    "    cons = ConsensusCluster(MultiviewKMeans, k, k+1, 100, resample_proportion=0.8)\n",
    "    cons.fit(Xs)\n",
    "    assignments[k] = cons.predict_data(Xs) + 1\n",
    "    assert cons.Mk.shape[0] == 1\n",
    "    Mks.append(cons.Mk[0])\n",
    "assignments.to_csv('data/ClinicalProteomeViewsAssignments.csv')\n",
    "\n",
    "Aks = []\n",
    "plt.figure(figsize=(12, 9))\n",
    "\n",
    "for k in [2, 3, 4, 5, 6]:\n",
    "    hist, bins = np.histogram(Mks[k-2].ravel(), bins=50)\n",
    "    pdf = hist / sum(hist)\n",
    "    cdf = np.cumsum(pdf)\n",
    "    acdf = np.sum(h*(b-a) for b, a, h in zip(bins[1:], bins[:-1], cdf))\n",
    "    Aks.append(acdf)\n",
    "    plt.plot(bins[1:], cdf, label=k)\n",
    "    \n",
    "plt.legend(fontsize=16)\n",
    "plt.title('CDF: ClinicalProteomeViews', fontsize=25)\n",
    "plt.ylim(-0.05, 1.05)\n",
    "plt.tight_layout()\n",
    "plt.tight_layout()\n",
    "plt.savefig('CDF plots/CDF ClinicalProteomeViews.png', dpi=300)\n",
    "plt.show()"
   ]
  }
 ],
 "metadata": {
  "kernelspec": {
   "display_name": "Python 3 (ipykernel)",
   "language": "python",
   "name": "python3"
  },
  "language_info": {
   "codemirror_mode": {
    "name": "ipython",
    "version": 3
   },
   "file_extension": ".py",
   "mimetype": "text/x-python",
   "name": "python",
   "nbconvert_exporter": "python",
   "pygments_lexer": "ipython3",
   "version": "3.8.10"
  },
  "toc": {
   "base_numbering": 1,
   "nav_menu": {},
   "number_sections": true,
   "sideBar": true,
   "skip_h1_title": true,
   "title_cell": "Table of Contents",
   "title_sidebar": "Contents",
   "toc_cell": false,
   "toc_position": {},
   "toc_section_display": true,
   "toc_window_display": true
  },
  "varInspector": {
   "cols": {
    "lenName": 16,
    "lenType": 16,
    "lenVar": 40
   },
   "kernels_config": {
    "python": {
     "delete_cmd_postfix": "",
     "delete_cmd_prefix": "del ",
     "library": "var_list.py",
     "varRefreshCmd": "print(var_dic_list())"
    },
    "r": {
     "delete_cmd_postfix": ") ",
     "delete_cmd_prefix": "rm(",
     "library": "var_list.r",
     "varRefreshCmd": "cat(var_dic_list()) "
    }
   },
   "types_to_exclude": [
    "module",
    "function",
    "builtin_function_or_method",
    "instance",
    "_Feature"
   ],
   "window_display": false
  }
 },
 "nbformat": 4,
 "nbformat_minor": 5
}
