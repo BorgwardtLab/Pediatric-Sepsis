{
 "cells": [
  {
   "cell_type": "code",
   "execution_count": 24,
   "id": "9b03010c",
   "metadata": {
    "ExecuteTime": {
     "end_time": "2022-06-20T06:35:34.465671Z",
     "start_time": "2022-06-20T06:35:34.456784Z"
    }
   },
   "outputs": [],
   "source": [
    "import pandas    as pd\n",
    "import numpy     as np\n",
    "import json\n",
    "import scipy     as sp\n",
    "from tqdm        import tqdm"
   ]
  },
  {
   "cell_type": "code",
   "execution_count": 22,
   "id": "8187ee8b",
   "metadata": {
    "ExecuteTime": {
     "end_time": "2022-06-19T13:22:49.703513Z",
     "start_time": "2022-06-19T13:21:21.071048Z"
    },
    "code_folding": []
   },
   "outputs": [
    {
     "name": "stderr",
     "output_type": "stream",
     "text": [
      "FGR_processes: 100%|█████████████████████████████████████████████| 6307/6307 [00:08<00:00, 727.33it/s]\n"
     ]
    },
    {
     "name": "stdout",
     "output_type": "stream",
     "text": [
      "alpha_corrs = [0.01, 0.0002, 0.01]\n",
      "n_testables = [41, 0, 41]\n",
      "n_testable  = 41\n",
      "alpha_corr  = 0.0002\n"
     ]
    },
    {
     "name": "stderr",
     "output_type": "stream",
     "text": [
      "NADK_processes: 100%|████████████████████████████████████████████| 6307/6307 [00:09<00:00, 700.37it/s]\n"
     ]
    },
    {
     "name": "stdout",
     "output_type": "stream",
     "text": [
      "alpha_corrs = [0.01, 0.0002, 0.01, 0.0011, 0.01]\n",
      "n_testables = [9, 1, 9]\n",
      "n_testable  = 9\n",
      "alpha_corr  = 0.0011\n",
      "0.0001\tNADP biosynthetic process\n"
     ]
    },
    {
     "name": "stderr",
     "output_type": "stream",
     "text": [
      "CLEC5A_processes: 100%|██████████████████████████████████████████| 6307/6307 [00:09<00:00, 666.98it/s]\n"
     ]
    },
    {
     "name": "stdout",
     "output_type": "stream",
     "text": [
      "alpha_corrs = [0.01, 0.0002, 0.01, 0.0011, 0.01, 0.001, 0.005, 0.0025, 0.0033]\n",
      "n_testables = [10, 2, 4, 3, 4]\n",
      "n_testable  = 4\n",
      "alpha_corr  = 0.0025\n",
      "0.0007\tnegative regulation of myeloid cell apoptotic process\n",
      "0.001\tosteoblast development\n",
      "0.0014\tregulation of myeloid cell apoptotic process\n"
     ]
    },
    {
     "name": "stderr",
     "output_type": "stream",
     "text": [
      "S100P_processes: 100%|███████████████████████████████████████████| 6307/6307 [00:08<00:00, 717.79it/s]\n"
     ]
    },
    {
     "name": "stdout",
     "output_type": "stream",
     "text": [
      "alpha_corrs = [0.01, 0.0002, 0.01, 0.0011, 0.01, 0.001, 0.005, 0.0025, 0.0033, 0.002, 0.01]\n",
      "n_testables = [5, 0, 5]\n",
      "n_testable  = 5\n",
      "alpha_corr  = 0.002\n"
     ]
    },
    {
     "name": "stderr",
     "output_type": "stream",
     "text": [
      "NCF2_processes: 100%|████████████████████████████████████████████| 6307/6307 [00:08<00:00, 701.11it/s]\n"
     ]
    },
    {
     "name": "stdout",
     "output_type": "stream",
     "text": [
      "alpha_corrs = [0.01, 0.0002, 0.01, 0.0011, 0.01, 0.001, 0.005, 0.0025, 0.0033, 0.002, 0.01, 0.0017, 0.005, 0.002, 0.0033, 0.0025]\n",
      "n_testables = [6, 2, 5, 3, 4, 3]\n",
      "n_testable  = 4\n",
      "alpha_corr  = 0.0025\n",
      "0.0012\tsuperoxide anion generation\n",
      "0.0013\trespiratory burst\n",
      "0.002\tsuperoxide metabolic process\n"
     ]
    },
    {
     "name": "stderr",
     "output_type": "stream",
     "text": [
      "PXN_processes: 100%|█████████████████████████████████████████████| 6307/6307 [00:07<00:00, 805.53it/s]\n"
     ]
    },
    {
     "name": "stdout",
     "output_type": "stream",
     "text": [
      "alpha_corrs = [0.01, 0.0002, 0.01, 0.0011, 0.01, 0.001, 0.005, 0.0025, 0.0033, 0.002, 0.01, 0.0017, 0.005, 0.002, 0.0033, 0.0025, 0.0004, 0.01]\n",
      "n_testables = [25, 0, 25]\n",
      "n_testable  = 25\n",
      "alpha_corr  = 0.0004\n"
     ]
    },
    {
     "name": "stderr",
     "output_type": "stream",
     "text": [
      "APEX1_processes: 100%|███████████████████████████████████████████| 6307/6307 [00:08<00:00, 734.53it/s]\n"
     ]
    },
    {
     "name": "stdout",
     "output_type": "stream",
     "text": [
      "alpha_corrs = [0.01, 0.0002, 0.01, 0.0011, 0.01, 0.001, 0.005, 0.0025, 0.0033, 0.002, 0.01, 0.0017, 0.005, 0.002, 0.0033, 0.0025, 0.0004, 0.01, 0.0003, 0.01]\n",
      "n_testables = [36, 1, 36]\n",
      "n_testable  = 36\n",
      "alpha_corr  = 0.0003\n",
      "0.0001\ttelomere maintenance via base-excision repair\n"
     ]
    },
    {
     "name": "stderr",
     "output_type": "stream",
     "text": [
      "EGLN1_processes: 100%|███████████████████████████████████████████| 6307/6307 [00:08<00:00, 748.21it/s]\n"
     ]
    },
    {
     "name": "stdout",
     "output_type": "stream",
     "text": [
      "alpha_corrs = [0.01, 0.0002, 0.01, 0.0011, 0.01, 0.001, 0.005, 0.0025, 0.0033, 0.002, 0.01, 0.0017, 0.005, 0.002, 0.0033, 0.0025, 0.0004, 0.01, 0.0003, 0.01, 0.0008, 0.002, 0.0012, 0.0014]\n",
      "n_testables = [13, 5, 8, 7, 8]\n",
      "n_testable  = 8\n",
      "alpha_corr  = 0.0012\n",
      "0.0003\tnegative regulation of cyclic-nucleotide phosphodiesterase activity\n",
      "0.0004\toxygen homeostasis\n",
      "0.0005\tregulation of cyclic-nucleotide phosphodiesterase activity\n",
      "0.0005\tgas homeostasis\n",
      "0.0005\tpeptidyl-proline hydroxylation to 4-hydroxy-L-proline\n",
      "0.0008\tpeptidyl-proline hydroxylation\n",
      "0.0011\tresponse to nitric oxide\n"
     ]
    },
    {
     "name": "stderr",
     "output_type": "stream",
     "text": [
      "TOP2B_processes: 100%|███████████████████████████████████████████| 6307/6307 [00:08<00:00, 781.45it/s]\n"
     ]
    },
    {
     "name": "stdout",
     "output_type": "stream",
     "text": [
      "alpha_corrs = [0.01, 0.0002, 0.01, 0.0011, 0.01, 0.001, 0.005, 0.0025, 0.0033, 0.002, 0.01, 0.0017, 0.005, 0.002, 0.0033, 0.0025, 0.0004, 0.01, 0.0003, 0.01, 0.0008, 0.002, 0.0012, 0.0014, 0.0005, 0.01]\n",
      "n_testables = [22, 1, 22]\n",
      "n_testable  = 22\n",
      "alpha_corr  = 0.0005\n",
      "0.0001\tpositive regulation of single stranded viral RNA replication via double stranded DNA intermediate\n"
     ]
    },
    {
     "name": "stderr",
     "output_type": "stream",
     "text": [
      "NBN_processes: 100%|█████████████████████████████████████████████| 6307/6307 [00:08<00:00, 703.61it/s]\n",
      "FGR_pathways: 100%|█████████████████████████████████████████████| 160/160 [00:00<00:00, 269730.16it/s]\n",
      "NADK_pathways: 100%|████████████████████████████████████████████| 160/160 [00:00<00:00, 424470.99it/s]\n",
      "CLEC5A_pathways: 100%|██████████████████████████████████████████| 160/160 [00:00<00:00, 294984.02it/s]\n",
      "S100P_pathways: 100%|███████████████████████████████████████████| 160/160 [00:00<00:00, 594409.78it/s]\n",
      "NCF2_pathways: 100%|████████████████████████████████████████████| 160/160 [00:00<00:00, 377440.18it/s]\n",
      "PXN_pathways: 100%|█████████████████████████████████████████████| 160/160 [00:00<00:00, 316103.93it/s]\n",
      "APEX1_pathways: 100%|███████████████████████████████████████████| 160/160 [00:00<00:00, 820401.76it/s]\n",
      "EGLN1_pathways: 100%|███████████████████████████████████████████| 160/160 [00:00<00:00, 582036.98it/s]\n",
      "TOP2B_pathways: 100%|███████████████████████████████████████████| 160/160 [00:00<00:00, 248367.37it/s]\n",
      "NBN_pathways: 100%|█████████████████████████████████████████████| 160/160 [00:00<00:00, 770480.64it/s]\n"
     ]
    }
   ],
   "source": [
    "genes1 = ['CLEC5A','TOP2B','PAG1','CASP8','NADK','RCOR1','APEX1','NBN','CRKL','PPP1R2']\n",
    "genes2 = ['CKAP4','BTN3A2','DFFA','IL10RB','CD40','CCL2','PLAU','CLEC7A','CCL3','CLEC4D']\n",
    "genes3 = ['FGR','NADK','CLEC5A','S100P','NCF2','PXN','APEX1','EGLN1','TOP2B','NBN']\n",
    "genes  = genes3\n",
    "\n",
    "procs = [g+'_processes.json' for g in genes]\n",
    "paths = [g+'_pathways.json' for g in genes]\n",
    "genes = procs + paths\n",
    "\n",
    "alpha = [0.01]\n",
    "\n",
    "for gf in genes:\n",
    "    \n",
    "    with open(gf, 'r') as f:\n",
    "        go = json.load(f)\n",
    "        \n",
    "    df = pd.DataFrame(columns=['proc_path','p_value'])\n",
    "\n",
    "    for g in tqdm(go['overrepresentation']['group'],gf.split('.')[0]):\n",
    "    \n",
    "        for r in g['result']:\n",
    "        \n",
    "            if type(r)!=str:\n",
    "                \n",
    "                process = r['term']['label']\n",
    "                pvalue  = r['input_list']['pValue']\n",
    "                df      = pd.concat([df,pd.DataFrame([[process,pvalue]],columns=df.columns)])\n",
    "            \n",
    "    df     = df.reset_index(drop=True)\n",
    "    n_test = [df[df.p_value<alpha[0]].shape[0]]\n",
    "\n",
    "    while n_test[-1] not in n_test[:-1]:\n",
    "    \n",
    "        a = alpha[-1]\n",
    "        n = n_test[-1]\n",
    "    \n",
    "        if n!=0:\n",
    "            alpha  += [alpha[0]/n]\n",
    "            n_test += [df[df.p_value<alpha[0]/n].shape[0]]\n",
    "        else:\n",
    "            alpha += [alpha[0]]\n",
    "            n_test += [df[df.p_value<alpha[0]].shape[0]]\n",
    "\n",
    "    n_testable = np.max(n_test[-2:])\n",
    "    \n",
    "    if n_testable!=0:\n",
    "\n",
    "        alpha_corr = alpha[0]/n_testable\n",
    "        \n",
    "        print('alpha_corrs =',[np.round(a,4) for a in alpha])\n",
    "        print('n_testables =',n_test)\n",
    "        print('n_testable  =',n_testable)\n",
    "        print('alpha_corr  =',np.round(alpha_corr,4))\n",
    "        \n",
    "        sdf = df[df.p_value<alpha_corr].sort_values('p_value').reset_index(drop=True)\n",
    "        \n",
    "        for i in sdf.index:\n",
    "            print('%s\\t%s' % (str(np.round(sdf.loc[i,'p_value'],4)),sdf.loc[i,'proc_path']))"
   ]
  },
  {
   "cell_type": "code",
   "execution_count": 25,
   "id": "31c36078",
   "metadata": {
    "ExecuteTime": {
     "end_time": "2022-06-20T06:35:39.137447Z",
     "start_time": "2022-06-20T06:35:39.086348Z"
    }
   },
   "outputs": [
    {
     "data": {
      "text/plain": [
       "array([0.7624521 , 0.80170126, 0.80979156, 0.82621922, 0.83455825,\n",
       "       0.85149099, 0.85149099, 0.85149099, 0.86008644, 0.87753989])"
      ]
     },
     "execution_count": 25,
     "metadata": {},
     "output_type": "execute_result"
    }
   ],
   "source": [
    "x   = [0.27,0.22,0.21,0.19,0.18,0.16,0.16,0.16,0.15,0.13]\n",
    "dfn = 2\n",
    "dfd = 384\n",
    "sp.stats.f.pdf(x,dfn,dfd)"
   ]
  },
  {
   "cell_type": "code",
   "execution_count": null,
   "id": "fbbda05c",
   "metadata": {},
   "outputs": [],
   "source": []
  }
 ],
 "metadata": {
  "kernelspec": {
   "display_name": "ebm",
   "language": "python",
   "name": "ebm"
  },
  "language_info": {
   "codemirror_mode": {
    "name": "ipython",
    "version": 3
   },
   "file_extension": ".py",
   "mimetype": "text/x-python",
   "name": "python",
   "nbconvert_exporter": "python",
   "pygments_lexer": "ipython3",
   "version": "3.10.2"
  },
  "toc": {
   "base_numbering": 1,
   "nav_menu": {},
   "number_sections": true,
   "sideBar": true,
   "skip_h1_title": true,
   "title_cell": "Table of Contents",
   "title_sidebar": "Contents",
   "toc_cell": false,
   "toc_position": {},
   "toc_section_display": true,
   "toc_window_display": false
  }
 },
 "nbformat": 4,
 "nbformat_minor": 5
}
