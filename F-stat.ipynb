{
 "cells": [
  {
   "cell_type": "code",
   "execution_count": null,
   "metadata": {},
   "outputs": [],
   "source": [
    "import pandas as pd\n",
    "import numpy as np\n",
    "import copy\n",
    "import os\n",
    "import warnings\n",
    "warnings.filterwarnings(\"ignore\")"
   ]
  },
  {
   "cell_type": "code",
   "execution_count": null,
   "metadata": {},
   "outputs": [],
   "source": [
    "wd = '/cluster/work/borgw/SPSS/MultiOmicsAnalysis/ConsensusClustering/'\n",
    "os.chdir(wd)"
   ]
  },
  {
   "cell_type": "code",
   "execution_count": null,
   "metadata": {},
   "outputs": [],
   "source": [
    "def F_stat(view, clusters, k):\n",
    "    data = copy.deepcopy(view)\n",
    "    data['cluster'] = list(clusters)\n",
    "    nj = data.groupby('cluster').size()\n",
    "    overall_mean = data.drop('cluster', 1).mean()\n",
    "    group_mean = data.groupby('cluster').mean()\n",
    "    \n",
    "    SSB = []\n",
    "    for k in sorted(data['cluster'].unique()):\n",
    "        diff = (group_mean.mean() - overall_mean) ** 2\n",
    "        nj = data.groupby('cluster').size()[k]\n",
    "        diff = nj * diff\n",
    "        SSB.append(diff)\n",
    "    SSB = pd.DataFrame(SSB).sum(0)\n",
    "    \n",
    "    SSW = pd.DataFrame(columns=group_mean.columns)\n",
    "    for k in sorted(data['cluster'].unique()):\n",
    "        cluster = data[data['cluster'] == k].drop('cluster', 1)\n",
    "        SSW.loc[k] = ((cluster - group_mean.loc[k]) ** 2).sum(0)\n",
    "\n",
    "    SSW = SSW.sum(0)\n",
    "    N = len(data)\n",
    "    coef = ((N - k) / (k - 1))\n",
    "    \n",
    "    F_stat = coef * (SSB/SSW)\n",
    "    \n",
    "    return F_stat"
   ]
  },
  {
   "cell_type": "markdown",
   "metadata": {},
   "source": [
    "# clinical view"
   ]
  },
  {
   "cell_type": "code",
   "execution_count": null,
   "metadata": {
    "scrolled": true
   },
   "outputs": [],
   "source": [
    "clinical = pd.read_csv('data/ClinicalViewStandardized_binary_pca.csv', index_col=0)\n",
    "clinical_ori = pd.read_csv('data/ClinicalViewMICEimputed.csv', index_col=0)\n",
    "clinical_assignments = pd.read_csv('data/clinicalViewAssignments.csv', index_col=0)['3']\n",
    "F_stat_clinical = F_stat(clinical, clinical_assignments, 3)"
   ]
  },
  {
   "cell_type": "code",
   "execution_count": null,
   "metadata": {},
   "outputs": [],
   "source": [
    "F_stat_clinical.to_csv('F_stats/clinical.csv')"
   ]
  },
  {
   "cell_type": "code",
   "execution_count": null,
   "metadata": {},
   "outputs": [],
   "source": [
    "clinical_ori['cluster'] = clinical_assignments.tolist()\n",
    "stat = clinical_ori.groupby('cluster').mean().round(3).astype(str) + ' (' + clinical_ori.groupby('cluster').std().round(3).astype(str) + ')'\n",
    "print(F_stat_clinical.sort_values(ascending=False).iloc[:10])\n",
    "stat.loc[:, stat.columns.isin(F_stat_clinical.sort_values(ascending=False).iloc[:10].index)]"
   ]
  },
  {
   "cell_type": "markdown",
   "metadata": {},
   "source": [
    "# proteome view"
   ]
  },
  {
   "cell_type": "code",
   "execution_count": null,
   "metadata": {
    "scrolled": false
   },
   "outputs": [],
   "source": [
    "proteome = pd.read_csv('data/ProteomeViewStandardized.csv', index_col=0)\n",
    "proteome_ori = pd.read_csv('data/ProteomeView.csv', index_col=0)\n",
    "proteome_assignments = pd.read_csv('data/ProteomeViewAssignments.csv', index_col=0)['3']\n",
    "F_stat_proteome = F_stat(proteome, proteome_assignments, 3)\n",
    "F_stat_proteome.to_csv('F_stats/proteome.csv')"
   ]
  },
  {
   "cell_type": "code",
   "execution_count": null,
   "metadata": {
    "scrolled": true
   },
   "outputs": [],
   "source": [
    "F_stat_proteome.sort_values(ascending=False).iloc[:10]"
   ]
  },
  {
   "cell_type": "code",
   "execution_count": null,
   "metadata": {},
   "outputs": [],
   "source": [
    "npx = pd.read_excel('../olinks/20191053_Giannoni_NPX.xlsx', index_col=0, skiprows=[0, 1])\n",
    "names = F_stat_proteome.dropna().sort_values(ascending=False).iloc[:10].index\n",
    "uniprot = npx.loc[:, npx.columns.isin(names)].loc['Uniprot ID'].loc[names]\n",
    "print(uniprot)"
   ]
  },
  {
   "cell_type": "code",
   "execution_count": null,
   "metadata": {},
   "outputs": [],
   "source": [
    "proteome_ori['cluster'] = proteome_assignments.tolist()\n",
    "stat = proteome_ori.groupby('cluster').mean().round(3).astype(str) + ' (' + proteome_ori.groupby('cluster').std().round(3).astype(str) + ')'\n",
    "\n",
    "stat = stat.loc[:, stat.columns.isin(F_stat_proteome.sort_values(ascending=False).iloc[:10].index)]\n",
    "stat.columns = uniprot.tolist()\n",
    "stat"
   ]
  },
  {
   "cell_type": "markdown",
   "metadata": {},
   "source": [
    "# two views"
   ]
  },
  {
   "cell_type": "code",
   "execution_count": null,
   "metadata": {
    "scrolled": true
   },
   "outputs": [],
   "source": [
    "view1 = pd.read_csv('data/ClinicalViewStandardized_binary_pca.csv', index_col=0)\n",
    "view2 = pd.read_csv('data/ProteomeViewStandardized.csv', index_col=0)\n",
    "view = pd.concat([view1, view2], 1)\n",
    "true_assignments = pd.read_csv('data/ClinicalProteomeViewsAssignments.csv', index_col=0)['3']\n",
    "F_stat_two = F_stat(view, true_assignments, 3)\n",
    "F_stat_two.to_csv('F_stats/TwoViews.csv')"
   ]
  },
  {
   "cell_type": "code",
   "execution_count": null,
   "metadata": {},
   "outputs": [],
   "source": [
    "F_stat_two.sort_values(ascending=False).iloc[:10]"
   ]
  },
  {
   "cell_type": "code",
   "execution_count": null,
   "metadata": {},
   "outputs": [],
   "source": [
    "names = F_stat_two.dropna().sort_values(ascending=False).iloc[:10].index\n",
    "uniprot = npx.loc[:, npx.columns.isin(names)].loc['Uniprot ID'].loc[names]\n",
    "print(uniprot)"
   ]
  },
  {
   "cell_type": "code",
   "execution_count": null,
   "metadata": {},
   "outputs": [],
   "source": [
    "proteome_ori['cluster'] = true_assignments.tolist()\n",
    "stat = proteome_ori.groupby('cluster').mean().round(3).astype(str) + \\\n",
    "' (' + proteome_ori.groupby('cluster').std().round(3).astype(str) + ')'\n",
    "stat = stat.loc[:, stat.columns.isin(F_stat_two.sort_values(ascending=False).iloc[:10].index)]\n",
    "stat.columns = uniprot.tolist()\n",
    "stat"
   ]
  },
  {
   "cell_type": "code",
   "execution_count": null,
   "metadata": {},
   "outputs": [],
   "source": []
  }
 ],
 "metadata": {
  "kernelspec": {
   "display_name": "Python 3",
   "language": "python",
   "name": "python3"
  },
  "language_info": {
   "codemirror_mode": {
    "name": "ipython",
    "version": 3
   },
   "file_extension": ".py",
   "mimetype": "text/x-python",
   "name": "python",
   "nbconvert_exporter": "python",
   "pygments_lexer": "ipython3",
   "version": "3.7.6"
  }
 },
 "nbformat": 4,
 "nbformat_minor": 4
}
