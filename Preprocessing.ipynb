{
 "cells": [
  {
   "cell_type": "code",
   "execution_count": null,
   "metadata": {},
   "outputs": [],
   "source": [
    "import pandas as pd\n",
    "import numpy as np\n",
    "from sklearn.cluster import SpectralClustering\n",
    "from mvlearn.cluster import MultiviewKMeans, MultiviewSphericalKMeans\n",
    "from sklearn.cluster import KMeans\n",
    "import numpy as np\n",
    "from sklearn.manifold import TSNE\n",
    "from sklearn.metrics import normalized_mutual_info_score as nmi_score\n",
    "import matplotlib.pyplot as plt\n",
    "import warnings\n",
    "warnings.filterwarnings(\"ignore\")\n",
    "from sklearn.preprocessing import StandardScaler\n",
    "from scipy.io import savemat\n",
    "from sklearn.ensemble import RandomForestRegressor\n",
    "import os"
   ]
  },
  {
   "cell_type": "code",
   "execution_count": null,
   "metadata": {},
   "outputs": [],
   "source": [
    "wd = '/cluster/work/borgw/SPSS/MultiOmicsAnalysis/ConsensusClustering/'\n",
    "os.chdir(wd)"
   ]
  },
  {
   "cell_type": "markdown",
   "metadata": {},
   "source": [
    "# load and process data\n",
    "### only use sample with serum sampled between day 0 and 6 (387 samples)"
   ]
  },
  {
   "cell_type": "code",
   "execution_count": null,
   "metadata": {},
   "outputs": [],
   "source": [
    "feature_dict = pd.read_pickle('selected_features.pkl')\n",
    "selected_features = feature_dict['features']\n",
    "features_to_scale = feature_dict['features_to_scale']\n",
    "data_episode = pd.read_csv('../olinks/spss_mlcb_olink_episode.csv', index_col=0)\n",
    "data_episode = data_episode[(data_episode['sample.intv.d'] <=6) & (data_episode['sample.intv.d'] >=0)]"
   ]
  },
  {
   "cell_type": "code",
   "execution_count": null,
   "metadata": {
    "scrolled": true
   },
   "outputs": [],
   "source": [
    "npx_raw = pd.read_csv('data/All Panels_2022_2020_raw_NPX_olink.csv', index_col=0)\n",
    "bcday = pd.read_csv('../data/spss_mlcb_day.csv',index_col=['sample.id'])\n",
    "bcday = bcday[bcday['redcap.event.name'] == 'day_sampling']\n",
    "bcday = bcday[bcday['data.available'] == 'yes']\n",
    "bcday_raw = bcday[bcday.index.isin(npx_raw.index)]\n",
    "bcday_raw['age.at.bc'] = data_episode['age.at.bc.days']\n",
    "\n",
    "npx_raw = npx_raw[npx_raw.index.isin(bcday_raw.index)]\n",
    "npx_raw = npx_raw.loc[bcday_raw.index]\n",
    "assert (npx_raw.index == bcday_raw.index).all()\n",
    "\n",
    "npx_raw_sub = npx_raw[npx_raw.index.isin(data_episode.index)]\n",
    "bcday_raw_sub = bcday_raw[bcday_raw.index.isin(data_episode.index)]\n",
    "assert (npx_raw_sub.index == bcday_raw_sub.index).all()\n",
    "\n",
    "data_episode_sub = data_episode[data_episode.index.isin(bcday_raw_sub.index)]\n",
    "bcday_raw_sub['fio2.high'] = bcday_raw_sub['fio2.high'].fillna(0.21)"
   ]
  },
  {
   "cell_type": "code",
   "execution_count": null,
   "metadata": {},
   "outputs": [],
   "source": [
    "missing = bcday_raw_sub.isnull().sum().sort_values()\n",
    "missing_ratio = missing/len(bcday_raw_sub)\n",
    "to_drop = ['sepsis.3.complete', 'redcap.event.name', 'data.available']\n",
    "bcday_raw_sub = bcday_raw_sub.loc[:, ~bcday_raw_sub.columns.isin(to_drop)]"
   ]
  },
  {
   "cell_type": "code",
   "execution_count": null,
   "metadata": {},
   "outputs": [],
   "source": [
    "CCCs = [col for col in data_episode_sub.columns if 'ccc' in col][:-1]\n",
    "CCCs = data_episode_sub[CCCs].replace(['yes', 'no'], [1, 0])\n",
    "Sex = data_episode_sub['sex'].replace(['male', 'female'], [1, 0])\n",
    "ABXs =  data_episode_sub[[col for col in data_episode_sub.columns if 'abx.change' in col][2:]]\n",
    "ABXs = ABXs.replace(['yes', 'no'], [1, 0])\n",
    "\n",
    "focus = pd.get_dummies(data_episode_sub['focus.grp'], prefix='focus')\n",
    "patho = pd.get_dummies(data_episode_sub['pathogen.grp'], prefix='patho')\n",
    "cahai = pd.get_dummies(data_episode_sub['cahai'], prefix='cahai')\n",
    "category = pd.get_dummies(data_episode_sub['category'], prefix='cate')\n",
    "ethni = pd.get_dummies(data_episode_sub['ethnicity'], prefix='eth')\n",
    "neo = data_episode_sub['neonate'].replace(['yes', 'no'], [1, 0])"
   ]
  },
  {
   "cell_type": "code",
   "execution_count": null,
   "metadata": {},
   "outputs": [],
   "source": [
    "features_to_scale = ['temp.high', 'temp.low', 'rr.high', 'sato2.low', 'hr.high',\n",
    "                       'cap.refill', 'sbp.low', 'map.low', 'gcs.low', 'wcc.high', 'wcc.low',\n",
    "                       'anc.low', 'lymph.low', 'platelets.low', 'lactate.high', 'crea.high',\n",
    "                       'fio2.high', 'pao2.fio2.ratio.calc', 'spo2.fio2.ratio', 'pao2.fio2', 'alat.high']\n",
    "binary_features = [ 'niv', 'iv', 'hfnc', 'ecls', 'inotrope', 'crrt']\n",
    "bcday_raw_sub[binary_features] = bcday_raw_sub[binary_features].replace(['yes', 'no'], [1, 0])\n",
    "bcday_raw_sub = pd.concat([bcday_raw_sub, Sex, CCCs, ABXs, focus, patho, cahai, category, ethni, neo], 1)"
   ]
  },
  {
   "cell_type": "code",
   "execution_count": null,
   "metadata": {},
   "outputs": [],
   "source": [
    "todrop = ['fio2.high.abga','ecls.type', 'inotrope.adr.dose', 'inotrope.noradr.dose', 'inotrope.dop.dose',\n",
    "           'inotrope.dobut.dose', 'inotrope.vaso.dose', 'inotrope.milr.dose', 'bili.direct', 'pct.high',\n",
    "           'pao2.fio2.ratio', 'spo2.fio2.ratio', 'pao2.fio2.ratio.calc', 'fio2.high.abga',\n",
    "           'pao2.fio2']\n",
    "bcday_raw_sub = bcday_raw_sub.loc[:, ~bcday_raw_sub.columns.isin(todrop)]"
   ]
  },
  {
   "cell_type": "code",
   "execution_count": null,
   "metadata": {},
   "outputs": [],
   "source": [
    "physio_view_cols = ['temp.high', 'temp.low', 'rr.high', 'sato2.low', 'hr.high',\n",
    "                   'cap.refill', 'sbp.low', 'map.low', 'gcs.low', 'fio2.high', 'wcc.high', \n",
    "                   'wcc.low', 'anc.low', 'lymph.low', 'platelets.low','paco2.high', 'pao2.low', \n",
    "                   'lactate.high', 'bili.high', 'crea.high', 'inr.high', 'alat.high', \n",
    "                   'cons05.resp', 'cons05.cvs', 'cons05.cns', 'cons05.ren', 'cons05.hep', 'cons05.hem', 'cons05.score', \n",
    "                   'pelod.resp', 'pelod.cvs', 'pelod.cns', 'pelod.ren', 'pelod.hem', 'pelod.score', \n",
    "                   'psofa.resp', 'psofa.cvs', 'psofa.cns', 'psofa.ren','psofa.hep', 'psofa.hem', 'psofa.score',\n",
    "                   'age.at.bc', 'ccc.summary', 'niv', 'iv', 'hfnc',  'ecls', 'inotrope', 'crrt']\n",
    "\n",
    "\n",
    "contextual_view_cols = ['ccc.neuro', \n",
    "                       'ccc.cardio', 'ccc.pulmo', 'ccc.uro', 'ccc.gastro', 'ccc.haemimmuno',\n",
    "                       'ccc.metabol', 'ccc.malform', 'ccc.onco', 'ccc.neo', 'ccc.surg',\n",
    "                       'ccc.techdep', 'ccc.transplant', 'abx.change.pen', 'abx.change.oxa',\n",
    "                       'abx.change.pip', 'abx.change.cla', 'abx.change.cfz', 'abx.change.cxm',\n",
    "                       'abx.change.cro', 'abx.change.fep', 'abx.change.mem', 'abx.change.amk',\n",
    "                       'abx.change.ery', 'abx.change.van', 'abx.change.cip', 'abx.change.lzd',\n",
    "                       'abx.change.cli', 'abx.change.mtz', 'abx.change.sxt', \n",
    "                       'focus_abdominal', 'focus_clabsi', 'focus_cns',\n",
    "                       'focus_earnosethroat', 'focus_endocarditis', 'focus_osteoarticular',\n",
    "                       'focus_other', 'focus_pneumonia', 'focus_primbsi', 'focus_skin',\n",
    "                       'focus_toxic_shock', 'focus_uti', 'focus_wound', 'patho_candida',\n",
    "                       'patho_cons', 'patho_ecoli', 'patho_enterococcus', 'patho_hinfluenzae',\n",
    "                       'patho_klebsiella', 'patho_nmeningitidis', 'patho_othergneg',\n",
    "                       'patho_othergpos', 'patho_paeruginosa', 'patho_sagalactiae',\n",
    "                       'patho_saureus', 'patho_spneumoniae', 'patho_spyogenes',\n",
    "                       'patho_viridansgroup', 'cahai_ca', 'cahai_eos', 'cahai_hai',\n",
    "                       'cahai_los.ca', 'cahai_los.hai',\n",
    "                       'cate_comorbidity', 'cate_healthy', 'cate_neonate', 'eth_african',\n",
    "                       'eth_asian', 'eth_caucasian', 'eth_jewish', 'eth_mixed', 'neonate', 'sex']\n",
    "\n",
    "all_cols = physio_view_cols + contextual_view_cols"
   ]
  },
  {
   "cell_type": "code",
   "execution_count": null,
   "metadata": {},
   "outputs": [],
   "source": []
  },
  {
   "cell_type": "code",
   "execution_count": null,
   "metadata": {},
   "outputs": [],
   "source": [
    "len(contextual_view_cols)"
   ]
  },
  {
   "cell_type": "code",
   "execution_count": null,
   "metadata": {},
   "outputs": [],
   "source": []
  },
  {
   "cell_type": "code",
   "execution_count": null,
   "metadata": {},
   "outputs": [],
   "source": [
    "continous_cols = [col for col in bcday_raw_sub.columns if bcday_raw_sub[col].dropna().unique().shape[0]>2] \n",
    "binary_cols = [col for col in bcday_raw_sub.columns if bcday_raw_sub[col].dropna().unique().shape[0]<=2]\n",
    "addtional_cols = ['cons05.resp',\n",
    "                 'cons05.cvs',\n",
    "                 'cons05.cns',\n",
    "                 'cons05.ren',\n",
    "                 'cons05.hep',\n",
    "                 'cons05.hem',\n",
    "                 'pelod.ren',]\n",
    "continous_cols =  continous_cols + addtional_cols\n",
    "binary_cols = [col for col in binary_cols if col not in addtional_cols]"
   ]
  },
  {
   "cell_type": "code",
   "execution_count": null,
   "metadata": {},
   "outputs": [],
   "source": [
    "contextual_view_raw = bcday_raw_sub[binary_cols]\n",
    "phyiso_view_raw = bcday_raw_sub[continous_cols]\n",
    "proteome_view_raw = npx_raw_sub\n",
    "bcday_raw_sub.to_csv('data/bcday_raw_npx.csv')"
   ]
  },
  {
   "cell_type": "code",
   "execution_count": null,
   "metadata": {},
   "outputs": [],
   "source": [
    "physio_cols = ['temp.high', 'temp.low', 'rr.high', 'sato2.low', 'hr.high',\n",
    "               'cap.refill', 'sbp.low', 'map.low', 'gcs.low', 'fio2.high', 'wcc.high', \n",
    "               'wcc.low', 'anc.low', 'lymph.low', 'platelets.low',\n",
    "               'paco2.high', 'pao2.low', 'lactate.high', 'bili.high', 'crea.high',\n",
    "               'inr.high', 'alat.high']\n",
    "\n",
    "missing = phyiso_view_raw[physio_cols]\n",
    "plt.figure(figsize=(9, 6))\n",
    "ax = (missing.isnull().sum()/len(missing)).sort_values().plot.bar(fontsize=20)\n",
    "ax.set_ylabel('missingness',fontsize=20)\n",
    "plt.show()"
   ]
  },
  {
   "cell_type": "code",
   "execution_count": null,
   "metadata": {
    "scrolled": true
   },
   "outputs": [],
   "source": [
    "for col in proteome_view_raw.columns:\n",
    "    plt.figure(figsize=(12 ,9))\n",
    "    plt.hist(proteome_view_raw[col], weights=np.ones_like(proteome_view_raw[col]) / len(proteome_view_raw[col])\n",
    "             , bins=20, )\n",
    "    plt.title(col, fontsize=20)\n",
    "    #plt.savefig('Proteome/{}.png'.format(col), dpi=300)\n",
    "    plt.show()"
   ]
  },
  {
   "cell_type": "code",
   "execution_count": null,
   "metadata": {},
   "outputs": [],
   "source": [
    "plt.figure(figsize=(12 ,9))\n",
    "plt.hist(proteome_view_raw.isnull().sum()/len(proteome_view_raw),\n",
    "         weights=np.ones_like(proteome_view_raw)[0] / len(proteome_view_raw)\n",
    "         , bins=25, )\n",
    "plt.title('Proteomic view missingness', fontsize=20)\n",
    "plt.savefig('Proteomic view missingness.png', dpi=300)\n",
    "plt.show()"
   ]
  },
  {
   "cell_type": "code",
   "execution_count": null,
   "metadata": {
    "scrolled": false
   },
   "outputs": [],
   "source": [
    "plt.figure(figsize=(12 ,9))\n",
    "plt.hist(phyiso_view_raw.isnull().sum()/len(phyiso_view_raw), \n",
    "         weights=np.ones_like(phyiso_view_raw)[0] / len(phyiso_view_raw),bins=10)\n",
    "plt.title('Physiological view missingness', fontsize=20)\n",
    "plt.savefig('Physiological view missingness.png', dpi=300)\n",
    "plt.show()"
   ]
  },
  {
   "cell_type": "code",
   "execution_count": null,
   "metadata": {},
   "outputs": [],
   "source": [
    "plt.figure(figsize=(12 ,9))\n",
    "plt.hist(contextual_view_raw.isnull().sum()/len(contextual_view_raw),\n",
    "         weights=np.ones_like(contextual_view_raw)[0] / len(contextual_view_raw), \n",
    "         density=True,bins=10)\n",
    "plt.title('Contextual view missingness', fontsize=20)\n",
    "plt.savefig('Contextual view missingness.png', dpi=300)\n",
    "plt.show()"
   ]
  },
  {
   "cell_type": "markdown",
   "metadata": {},
   "source": [
    "## MICE imputation for the phyiso_view and proteome_view\n",
    "### 0 imputation for contextual_view"
   ]
  },
  {
   "cell_type": "code",
   "execution_count": null,
   "metadata": {},
   "outputs": [],
   "source": [
    "from sklearn.experimental import enable_iterative_imputer\n",
    "from sklearn.impute import IterativeImputer\n",
    "impute_estimator = RandomForestRegressor(\n",
    "        # We tuned the hyperparameters of the RandomForestRegressor to get a good\n",
    "        # enough predictive performance for a restricted execution time.\n",
    "        n_estimators=4,\n",
    "        max_depth=10,\n",
    "        bootstrap=True,\n",
    "        max_samples=0.5,\n",
    "        n_jobs=-1,\n",
    "        random_state=0,\n",
    "    )\n",
    "imp = IterativeImputer(max_iter=20, estimator=impute_estimator, random_state=0)"
   ]
  },
  {
   "cell_type": "code",
   "execution_count": null,
   "metadata": {},
   "outputs": [],
   "source": [
    "proteome_view =  pd.DataFrame(imp.fit_transform(proteome_view_raw),\n",
    "                              index=proteome_view_raw.index, \n",
    "                              columns=proteome_view_raw.columns)\n",
    "phyiso_view =  pd.DataFrame(imp.fit_transform(phyiso_view_raw),\n",
    "                              index=phyiso_view_raw.index, \n",
    "                              columns=phyiso_view_raw.columns)\n",
    "contextual_view = contextual_view.fillna(0)"
   ]
  },
  {
   "cell_type": "code",
   "execution_count": null,
   "metadata": {},
   "outputs": [],
   "source": [
    "phyiso_view.to_csv('data/PhysioView.csv')\n",
    "proteome_view.to_csv('data/ProteomeView.csv')\n",
    "contextual_view.to_csv('data/ContextualView.csv')\n",
    "assert (phyiso_view.index == contextual_view.index).all() & (phyiso_view.index == contextual_view.index).all()"
   ]
  },
  {
   "cell_type": "markdown",
   "metadata": {},
   "source": [
    "# log transform"
   ]
  },
  {
   "cell_type": "code",
   "execution_count": null,
   "metadata": {},
   "outputs": [],
   "source": [
    "physio_view = pd.read_csv('data/PhysioView.csv', index_col=0)\n",
    "proteome_view = pd.read_csv('data/ProteomeView.csv', index_col=0)\n",
    "contextual_view = pd.read_csv('data/ContextualView.csv', index_col=0)\n",
    "clinical_view = pd.concat([physio_view, contextual_view], 1)\n",
    "clinical_view = clinical_view.drop(['pupils', 'crp.high'], 1)"
   ]
  },
  {
   "cell_type": "code",
   "execution_count": null,
   "metadata": {},
   "outputs": [],
   "source": [
    "physio_view_cols = ['temp.high', 'temp.low', 'rr.high', 'sato2.low', 'hr.high',\n",
    "                   'cap.refill', 'sbp.low', 'map.low', 'gcs.low', 'fio2.high', 'wcc.high', \n",
    "                   'wcc.low', 'anc.low', 'lymph.low', 'platelets.low','paco2.high', 'pao2.low', \n",
    "                   'lactate.high', 'bili.high', 'crea.high', 'inr.high', 'alat.high', \n",
    "                   'cons05.resp', 'cons05.cvs', 'cons05.cns', 'cons05.ren', 'cons05.hep', 'cons05.hem', 'cons05.score', \n",
    "                   'pelod.resp', 'pelod.cvs', 'pelod.cns', 'pelod.ren', 'pelod.hem', 'pelod.score', \n",
    "                   'psofa.resp', 'psofa.cvs', 'psofa.cns', 'psofa.ren','psofa.hep', 'psofa.hem', 'psofa.score',\n",
    "                   'age.at.bc', 'ccc.summary', 'niv', 'iv', 'hfnc',  'ecls', 'inotrope', 'crrt']\n",
    "\n",
    "\n",
    "contextual_view_cols = ['ccc.neuro', \n",
    "                       'ccc.cardio', 'ccc.pulmo', 'ccc.uro', 'ccc.gastro', 'ccc.haemimmuno',\n",
    "                       'ccc.metabol', 'ccc.malform', 'ccc.onco', 'ccc.neo', 'ccc.surg',\n",
    "                       'ccc.techdep', 'ccc.transplant', 'abx.change.pen', 'abx.change.oxa',\n",
    "                       'abx.change.pip', 'abx.change.cla', 'abx.change.cfz', 'abx.change.cxm',\n",
    "                       'abx.change.cro', 'abx.change.fep', 'abx.change.mem', 'abx.change.amk',\n",
    "                       'abx.change.ery', 'abx.change.van', 'abx.change.cip', 'abx.change.lzd',\n",
    "                       'abx.change.cli', 'abx.change.mtz', 'abx.change.sxt', \n",
    "                       'focus_abdominal', 'focus_clabsi', 'focus_cns',\n",
    "                       'focus_earnosethroat', 'focus_endocarditis', 'focus_osteoarticular',\n",
    "                       'focus_other', 'focus_pneumonia', 'focus_primbsi', 'focus_skin',\n",
    "                       'focus_toxic_shock', 'focus_uti', 'focus_wound', 'patho_candida',\n",
    "                       'patho_cons', 'patho_ecoli', 'patho_enterococcus', 'patho_hinfluenzae',\n",
    "                       'patho_klebsiella', 'patho_nmeningitidis', 'patho_othergneg',\n",
    "                       'patho_othergpos', 'patho_paeruginosa', 'patho_sagalactiae',\n",
    "                       'patho_saureus', 'patho_spneumoniae', 'patho_spyogenes',\n",
    "                       'patho_viridansgroup', 'cahai_ca', 'cahai_eos', 'cahai_hai',\n",
    "                       'cahai_los.ca', 'cahai_los.hai',\n",
    "                       'cate_comorbidity', 'cate_healthy', 'cate_neonate', 'eth_african',\n",
    "                       'eth_asian', 'eth_caucasian', 'eth_jewish', 'eth_mixed', 'neonate', 'sex']\n",
    "\n",
    "all_cols = physio_view_cols + contextual_view_cols\n",
    "\n",
    "cols_to_log = ['alat.high', \n",
    "                'anc.low',\n",
    "                'bili.high', \n",
    "                'cap.refill', \n",
    "                'crea.high',\n",
    "                'lactate.high',\n",
    "                'lymph.low', \n",
    "                'pao2.low',\n",
    "                'wcc.high', \n",
    "                'wcc.low',\n",
    "                'cons05.score', \n",
    "                'pelod.score',\n",
    "                'psofa.score',\n",
    "                 'sato2.low',\n",
    "                 'fio2.high']\n",
    "\n",
    "clinical_view['sato2.low'] = 100 - clinical_view['sato2.low']\n",
    "clinical_view['fio2.high'] = clinical_view['fio2.high'] - 0.21\n",
    "clinical_view[cols_to_log] = np.log(clinical_view[cols_to_log] + 1)\n",
    "#clinical_view = clinical_view.replace([np.inf, -np.inf], np.nan).fillna(0)"
   ]
  },
  {
   "cell_type": "markdown",
   "metadata": {},
   "source": [
    "# PCA on binarys"
   ]
  },
  {
   "cell_type": "code",
   "execution_count": null,
   "metadata": {},
   "outputs": [],
   "source": [
    "demographics = ['cate_neonate', 'eth_asian', 'eth_caucasian', 'eth_african', \n",
    "                'eth_jewish', 'eth_mixed', 'neonate', 'sex']\n",
    "\n",
    "chronic_conditions = ['ccc.neuro', 'ccc.cardio', 'ccc.pulmo', 'ccc.uro', 'ccc.gastro', 'ccc.haemimmuno',\n",
    "                      'ccc.metabol', 'ccc.malform', 'ccc.onco', 'ccc.neo', 'ccc.surg', 'ccc.techdep',\n",
    "                      'ccc.transplant', 'cate_comorbidity', 'cate_healthy']\n",
    "\n",
    "cons_scores = ['cons05.resp', 'cons05.cvs', 'cons05.cns', 'cons05.ren', 'cons05.hep', 'cons05.hem']\n",
    "\n",
    "infections = ['focus_abdominal', 'focus_clabsi', 'focus_cns',\n",
    "               'focus_earnosethroat', 'focus_endocarditis', 'focus_osteoarticular',\n",
    "               'focus_other', 'focus_pneumonia', 'focus_primbsi', 'focus_skin',\n",
    "               'focus_toxic_shock', 'focus_uti', 'focus_wound', 'cahai_ca', 'cahai_eos', 'cahai_hai',\n",
    "               'cahai_los.ca', 'cahai_los.hai']\n",
    "\n",
    "pathogen = ['patho_candida', 'patho_cons', 'patho_ecoli', 'patho_enterococcus', \n",
    "            'patho_hinfluenzae', 'patho_klebsiella', 'patho_nmeningitidis', \n",
    "            'patho_othergneg',\n",
    "           'patho_othergpos', 'patho_paeruginosa', 'patho_sagalactiae',\n",
    "           'patho_saureus', 'patho_spneumoniae', 'patho_spyogenes',\n",
    "           'patho_viridansgroup']\n",
    "\n",
    "treatment = ['abx.change.pen', 'abx.change.oxa',\n",
    "           'abx.change.pip', 'abx.change.cla', 'abx.change.cfz', 'abx.change.cxm',\n",
    "           'abx.change.cro', 'abx.change.fep', 'abx.change.mem', 'abx.change.amk',\n",
    "           'abx.change.ery', 'abx.change.van', 'abx.change.cip', 'abx.change.lzd',\n",
    "           'abx.change.cli', 'abx.change.mtz', 'abx.change.sxt', \n",
    "           'niv', 'iv', 'hfnc',  'ecls', 'inotrope', 'crrt']\n",
    "\n",
    "binarys = {'demographics': demographics, \n",
    "           'chronic_condition':chronic_conditions, \n",
    "           'cons_scores':cons_scores, \n",
    "           'infections':infections,\n",
    "           'pathogen':pathogen, \n",
    "           'treatment':treatment}"
   ]
  },
  {
   "cell_type": "code",
   "execution_count": null,
   "metadata": {},
   "outputs": [],
   "source": [
    "from sklearn.decomposition import PCA\n",
    "binary_cols = []\n",
    "binary_data = []\n",
    "\n",
    "for key, value in binarys.items():\n",
    "    subdata = clinical_view[value]\n",
    "    pca = PCA()\n",
    "    subdata = pca.fit_transform(subdata)\n",
    "    #subdata = subdata[:, pca.singular_values_ > 1e-3]\n",
    "    subdata = pd.DataFrame(subdata,\n",
    "                           index=clinical_view[value].index, \n",
    "                           columns=value)\n",
    "    for i in range(subdata.shape[1]):\n",
    "        plt.figure(figsize=(9, 6))\n",
    "        plt.hist(subdata[value[i]], bins=50)\n",
    "        plt.title(value[i], fontsize=20)\n",
    "        plt.savefig('Binary_PCA_plots/PCA_{}.png'.format(value[i]))\n",
    "        plt.close()\n",
    "    binary_cols.extend(value)\n",
    "    binary_data.append(subdata)\n",
    "    \n",
    "continous_cols = [col for col in all_cols if col not in binary_cols] \n",
    "clinical_continous = clinical_view[continous_cols]\n",
    "clinical_binary_pcas = pd.concat(binary_data, 1)"
   ]
  },
  {
   "cell_type": "code",
   "execution_count": null,
   "metadata": {},
   "outputs": [],
   "source": [
    "sc = StandardScaler()\n",
    "clinical_continous[clinical_continous.columns] = sc.fit_transform(clinical_continous)\n",
    "clinical_binary_pcas[clinical_binary_pcas.columns] = sc.fit_transform(clinical_binary_pcas)\n",
    "clinical_view_new = pd.concat([clinical_continous, clinical_binary_pcas], 1)\n",
    "clinical_view_new.to_csv('data/ClinicalViewStandardized_binary_pca.csv')"
   ]
  },
  {
   "cell_type": "code",
   "execution_count": null,
   "metadata": {},
   "outputs": [],
   "source": [
    "proteome_view.to_csv('data/ProteomeViewStandardized.csv')"
   ]
  },
  {
   "cell_type": "code",
   "execution_count": null,
   "metadata": {},
   "outputs": [],
   "source": [
    "kcc_input_sub = {}\n",
    "kcc_input_sub['Cov'] = np.vstack((physio_view['age.at.bc'].values, contextual_view['sex'].values)).T\n",
    "kcc_input_sub['Clinical'] = clinical_view_new.values\n",
    "savemat('data/ClinicalView_AgeSex.mat', kcc_input_sub) "
   ]
  },
  {
   "cell_type": "code",
   "execution_count": null,
   "metadata": {},
   "outputs": [],
   "source": [
    "kcc_input_sub = {}\n",
    "kcc_input_sub['Cov'] = np.vstack((physio_view['age.at.bc'].values, contextual_view['sex'].values)).T\n",
    "kcc_input_sub['Proteome'] = proteome_view.values\n",
    "savemat('data/ProteomeView_AgeSex.mat', kcc_input_sub) "
   ]
  },
  {
   "cell_type": "markdown",
   "metadata": {},
   "source": [
    "## assign sample id to KCC processed data"
   ]
  },
  {
   "cell_type": "code",
   "execution_count": null,
   "metadata": {},
   "outputs": [],
   "source": [
    "for k in [2, 3, 4, 5, 6]:\n",
    "    clinical_kcc = pd.read_csv('data/TwoViewsKCC_clinical_K_{}.csv'.format(k), header=None)\n",
    "    clinical_kcc.columns = ['KCC {}'.format(i) for i in range(1, k+1)]\n",
    "    clinical_kcc.index = clinical_view_new.index\n",
    "    clinical_kcc.to_csv('data/TwoViewsKCC_clinical_K_{}.csv'.format(k))\n",
    "    \n",
    "    npx_kcc = pd.read_csv('data/TwoViewsKCC_proteome_K_{}.csv'.format(k), header=None)\n",
    "    npx_kcc.columns = ['KCC {}'.format(i) for i in range(1, k+1)]\n",
    "    npx_kcc.index = proteome_view.index\n",
    "    npx_kcc.to_csv('data/TwoViewsKCC_proteome_K_{}.csv'.format(k))"
   ]
  }
 ],
 "metadata": {
  "kernelspec": {
   "display_name": "Python 3",
   "language": "python",
   "name": "python3"
  },
  "language_info": {
   "codemirror_mode": {
    "name": "ipython",
    "version": 3
   },
   "file_extension": ".py",
   "mimetype": "text/x-python",
   "name": "python",
   "nbconvert_exporter": "python",
   "pygments_lexer": "ipython3",
   "version": "3.7.6"
  },
  "varInspector": {
   "cols": {
    "lenName": 16,
    "lenType": 16,
    "lenVar": 40
   },
   "kernels_config": {
    "python": {
     "delete_cmd_postfix": "",
     "delete_cmd_prefix": "del ",
     "library": "var_list.py",
     "varRefreshCmd": "print(var_dic_list())"
    },
    "r": {
     "delete_cmd_postfix": ") ",
     "delete_cmd_prefix": "rm(",
     "library": "var_list.r",
     "varRefreshCmd": "cat(var_dic_list()) "
    }
   },
   "types_to_exclude": [
    "module",
    "function",
    "builtin_function_or_method",
    "instance",
    "_Feature"
   ],
   "window_display": false
  }
 },
 "nbformat": 4,
 "nbformat_minor": 5
}
