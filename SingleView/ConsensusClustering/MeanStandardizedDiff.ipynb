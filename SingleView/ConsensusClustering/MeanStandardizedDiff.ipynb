{
 "cells": [
  {
   "cell_type": "code",
   "execution_count": 1,
   "id": "695c8da0",
   "metadata": {},
   "outputs": [],
   "source": [
    "import pandas as pd\n",
    "\n",
    "pd.set_option(\"display.precision\", 3)\n",
    "import os\n",
    "import warnings\n",
    "\n",
    "warnings.filterwarnings(\"ignore\")\n",
    "import numpy as np\n",
    "import matplotlib.pyplot as plt\n",
    "from sklearn.preprocessing import StandardScaler\n",
    "from IPython.display import display\n",
    "import sys\n",
    "import math\n",
    "import seaborn as sns\n",
    "\n",
    "sns.set_style(\"white\")\n",
    "import scipy.stats as sps\n",
    "import copy\n",
    "from tqdm import tqdm\n",
    "import matplotlib.cm as cm\n",
    "import matplotlib.lines as mlines\n",
    "from pathlib import Path\n",
    "from random import shuffle\n",
    "import scipy.stats as stats"
   ]
  },
  {
   "cell_type": "markdown",
   "id": "e62bf001",
   "metadata": {},
   "source": [
    "# Physio "
   ]
  },
  {
   "cell_type": "code",
   "execution_count": 2,
   "id": "125d9914",
   "metadata": {},
   "outputs": [],
   "source": [
    "columns = [\n",
    "    \"temp.high\",\n",
    "    \"temp.low\",\n",
    "    \"rr.high\",\n",
    "    \"sato2.low\",\n",
    "    \"hr.high\",\n",
    "    \"cap.refill\",\n",
    "    \"sbp.low\",\n",
    "    \"map.low\",\n",
    "    \"gcs.low\",\n",
    "    \"fio2.high\",\n",
    "    \"wcc.high\",\n",
    "    \"wcc.low\",\n",
    "    \"anc.low\",\n",
    "    \"lymph.low\",\n",
    "    \"platelets.low\",\n",
    "    \"paco2.high\",\n",
    "    \"pao2.low\",\n",
    "    \"lactate.high\",\n",
    "    \"bili.high\",\n",
    "    \"crea.high\",\n",
    "    \"inr.high\",\n",
    "    \"alat.high\",\n",
    "    \"age.at.bc\",\n",
    "    \"ccc.summary\",\n",
    "    \"psofa.resp\",\n",
    "    \"psofa.cvs\",\n",
    "    \"psofa.cns\",\n",
    "    \"psofa.ren\",\n",
    "    \"psofa.hep\",\n",
    "    \"psofa.hem\",\n",
    "]\n",
    "\n",
    "\n",
    "configs = [\n",
    "    [\"clinical\", 4, \"DBSCAN\"],\n",
    "    [\"contextual\", 6, \"DBSCAN\"],\n",
    "    [\"physio\", 4, \"ConsensusKMeans\"],\n",
    "    [\"proteome\", 5, \"DBSCAN\"],\n",
    "]"
   ]
  },
  {
   "cell_type": "code",
   "execution_count": 3,
   "id": "6e7e0441",
   "metadata": {},
   "outputs": [],
   "source": [
    "data_path = \"data/\"\n",
    "kcc_path = '{}/KCC/'.format(data_path)\n",
    "score_path = \"{}/ClusteringResults/\".format(data_path)\n",
    "cdf_path = \"{}/CDF plots/\".format(data_path)\n",
    "Hierachical_plot_path = \"{}/Hierachical_plots/\".format(data_path)\n",
    "\n",
    "refer_id = pd.read_csv(\"data/ContextualViewStandardized.csv\", index_col=0).index\n",
    "physio_view = pd.read_csv(\"data/PhysioViewNormalImputed.csv\", index_col=0)\n",
    "\n",
    "contextual_view = pd.read_csv(\"data/ContextualViewZeroImputed.csv\", index_col=0)\n",
    "clinical_view = pd.concat([physio_view, contextual_view], 1)\n",
    "clinical_view = clinical_view.loc[\n",
    "    :,\n",
    "    ~clinical_view.columns.isin(\n",
    "        [\"pupils\", \"crp.high\", \"neonate\", \"abx.change.cfz\", \"abx.change.ery\"]\n",
    "    ),\n",
    "]\n",
    "proteome_view = pd.read_csv(\"data/ProteomeViewMICEimputed_UniProt.csv\", index_col=0)\n",
    "clinical_view = clinical_view[columns]\n",
    "clinical_view = clinical_view[clinical_view.index.isin(refer_id)]\n",
    "sc = StandardScaler()\n",
    "proteome_view[proteome_view.columns] = sc.fit_transform(proteome_view.values)"
   ]
  },
  {
   "cell_type": "code",
   "execution_count": 41,
   "id": "cb88f670",
   "metadata": {},
   "outputs": [],
   "source": [
    "\n",
    "\n",
    "def plot_diff(diff1, diff2, c1, c2, name, view):\n",
    "    plt.figure(figsize=(16, 9))\n",
    "    plt.plot(diff1, color='r', label='cluster {}'.format(c1))\n",
    "    plt.plot(diff2, color='b', label='cluster {}'.format(c2))\n",
    "    plt.xticks(range(len(diff1)), diff1.index,  rotation=90,fontsize=15)\n",
    "    plt.title('{}, cluster {} vs {}'.format(view.upper(), c1, c2))\n",
    "    plt.legend()\n",
    "    #plt.ylim(-1.5, 1.)\n",
    "    plt.axhline(0, color='black', lw=2, linestyle='dashed',)\n",
    "    plt.tight_layout()\n",
    "    plt.savefig('data/MeanStandardDiff_plots/{}'.format(name), dpi=200)\n",
    "    plt.close()"
   ]
  },
  {
   "cell_type": "code",
   "execution_count": 13,
   "id": "39d25a62",
   "metadata": {
    "scrolled": true
   },
   "outputs": [],
   "source": [
    "for i in range(len(configs)):\n",
    "    view, KCC_space, method = configs[i]\n",
    "\n",
    "    assignments = pd.read_csv(\n",
    "        \"{}/{}_{}_view_KCC_{}_assignments_ranked.csv\".format(\n",
    "            score_path, method, view, KCC_space\n",
    "        ),\n",
    "        index_col=0,\n",
    "    )\n",
    "    if method == 'DBSCAN':\n",
    "        assignments[\"assignment\"] = assignments[\"assignment\"] + 1\n",
    "        assignments = assignments[assignments[\"assignment\"] != 0]\n",
    "    num_cluster = len(np.unique(assignments[\"assignment\"].tolist()))\n",
    "\n",
    "\n",
    "    clinical_view[\"assignment\"] = assignments[\"assignment\"]\n",
    "    clinical_view = clinical_view[clinical_view[\"assignment\"].notnull()]\n",
    "    \n",
    "    \n",
    "    for c1 in clinical_view[\"assignment\"].unique():\n",
    "        \n",
    "        data_ovr = clinical_view.copy()\n",
    "        c1 = int(c1)\n",
    "        c2 = 'R'\n",
    "        \n",
    "        data_ovr.loc[data_ovr[data_ovr['assignment'] != c1].index, 'assignment'] = c2\n",
    "\n",
    "        diff1 = (\n",
    "            data_ovr[(data_ovr[\"assignment\"] == c1)]\n",
    "            .drop(\"assignment\", 1)\n",
    "            .mean()\n",
    "            - data_ovr.mean()\n",
    "        )\n",
    "        diff2 = (\n",
    "            data_ovr[(data_ovr[\"assignment\"] == 'R')]\n",
    "            .drop(\"assignment\", 1)\n",
    "            .mean()\n",
    "            - data_ovr.mean()\n",
    "        )\n",
    "\n",
    "        diff1 = diff1.sort_values()\n",
    "        diff2 = diff2[diff1.index]\n",
    "\n",
    "        savename = \"{}, cluster {} vs {}.png\".format(view.upper(), c1, c2)\n",
    "        plot_diff(diff1, diff2, c1, c2, savename, view)"
   ]
  },
  {
   "cell_type": "code",
   "execution_count": 14,
   "id": "6354cc6e",
   "metadata": {},
   "outputs": [],
   "source": [
    "assignments = pd.read_csv(\n",
    "        \"{}/MVKDR_results/proteome_clinical_K_4_assignments_ranked.csv\".format(data_path),\n",
    "        index_col=0,\n",
    "    )\n",
    "\n",
    "num_cluster = len(np.unique(assignments[\"assignment\"].tolist()))\n",
    "\n",
    "clinical_view = clinical_view[columns]\n",
    "clinical_view = clinical_view[clinical_view.index.isin(refer_id)]\n",
    "clinical_view[\"assignment\"] = assignments[\"assignment\"]\n",
    "clinical_view = clinical_view[clinical_view[\"assignment\"].notnull()]\n",
    "for c1 in clinical_view[\"assignment\"].unique():\n",
    "        \n",
    "    data_ovr = clinical_view.copy()\n",
    "    c1 = int(c1)\n",
    "    c2 = 'R'\n",
    "\n",
    "    data_ovr.loc[data_ovr[data_ovr['assignment'] != c1].index, 'assignment'] = c2\n",
    "\n",
    "    diff1 = (\n",
    "        data_ovr[(data_ovr[\"assignment\"] == c1)]\n",
    "        .drop(\"assignment\", 1)\n",
    "        .mean()\n",
    "        - data_ovr.mean()\n",
    "    )\n",
    "    diff2 = (\n",
    "        data_ovr[(data_ovr[\"assignment\"] == 'R')]\n",
    "        .drop(\"assignment\", 1)\n",
    "        .mean()\n",
    "        - data_ovr.mean()\n",
    "    )\n",
    "\n",
    "    diff1 = diff1.sort_values()\n",
    "    diff2 = diff2[diff1.index]\n",
    "\n",
    "    savename = \"{} physio, cluster {} vs {}.png\".format('MV', c1, c2)\n",
    "    plot_diff(diff1, diff2, c1, c2, savename, 'MV')\n",
    "    \n",
    "    "
   ]
  },
  {
   "cell_type": "markdown",
   "id": "5537d9b9",
   "metadata": {},
   "source": [
    "# proteome"
   ]
  },
  {
   "cell_type": "code",
   "execution_count": 4,
   "id": "8e2492c2",
   "metadata": {},
   "outputs": [],
   "source": [
    "assignments = pd.read_csv(\n",
    "        \"{}/MVKDR_results/proteome_clinical_K_4_assignments_ranked.csv\".format(data_path),\n",
    "        index_col=0,\n",
    "    )\n",
    "\n",
    "num_cluster = len(np.unique(assignments[\"assignment\"].tolist()))\n",
    "\n",
    "proteome_view = proteome_view[proteome_view.index.isin(refer_id)]\n",
    "proteome_view[\"assignment\"] = assignments[\"assignment\"]\n",
    "proteome_view = proteome_view[proteome_view[\"assignment\"].notnull()]"
   ]
  },
  {
   "cell_type": "code",
   "execution_count": 50,
   "id": "15edaf42",
   "metadata": {},
   "outputs": [],
   "source": [
    "def plot_diff(diff1, diff2, c1, c2, name, view):\n",
    "    plt.figure(figsize=(16, 9))\n",
    "    plt.plot(diff1.tolist(), color='r', label='cluster {}'.format(c1))\n",
    "    plt.plot(diff2.tolist(), color='b', label='cluster {}'.format(c2))\n",
    "    #plt.xticks(range(len(diff1)), diff1.index,  rotation=90,fontsize=15)\n",
    "    plt.title('{}, cluster {} vs {}'.format(view.upper(), c1, c2))\n",
    "    plt.legend()\n",
    "    plt.axhline(0, color='black', lw=2, linestyle='dashed',)\n",
    "    plt.tight_layout()\n",
    "    plt.savefig('data/MeanStandardDiff_plots/{}'.format(name), dpi=200)\n",
    "    plt.close()"
   ]
  },
  {
   "cell_type": "code",
   "execution_count": 5,
   "id": "1e2b8d88",
   "metadata": {},
   "outputs": [
    {
     "ename": "NameError",
     "evalue": "name 'plot_diff' is not defined",
     "output_type": "error",
     "traceback": [
      "\u001b[0;31m---------------------------------------------------------------------------\u001b[0m",
      "\u001b[0;31mNameError\u001b[0m                                 Traceback (most recent call last)",
      "Input \u001b[0;32mIn [5]\u001b[0m, in \u001b[0;36m<cell line: 1>\u001b[0;34m()\u001b[0m\n\u001b[1;32m     22\u001b[0m diff2 \u001b[38;5;241m=\u001b[39m diff2[diff1\u001b[38;5;241m.\u001b[39mindex]\n\u001b[1;32m     24\u001b[0m savename \u001b[38;5;241m=\u001b[39m \u001b[38;5;124m\"\u001b[39m\u001b[38;5;132;01m{}\u001b[39;00m\u001b[38;5;124m proteome, cluster \u001b[39m\u001b[38;5;132;01m{}\u001b[39;00m\u001b[38;5;124m vs \u001b[39m\u001b[38;5;132;01m{}\u001b[39;00m\u001b[38;5;124m.png\u001b[39m\u001b[38;5;124m\"\u001b[39m\u001b[38;5;241m.\u001b[39mformat(\u001b[38;5;124m'\u001b[39m\u001b[38;5;124mMV\u001b[39m\u001b[38;5;124m'\u001b[39m, c1, c2)\n\u001b[0;32m---> 25\u001b[0m \u001b[43mplot_diff\u001b[49m(diff1, diff2, c1, c2, savename, \u001b[38;5;124m'\u001b[39m\u001b[38;5;124mMV\u001b[39m\u001b[38;5;124m'\u001b[39m)\n",
      "\u001b[0;31mNameError\u001b[0m: name 'plot_diff' is not defined"
     ]
    }
   ],
   "source": [
    "for c1 in proteome_view[\"assignment\"].unique():\n",
    "    data_ovr = proteome_view.copy()\n",
    "    c1 = int(c1)\n",
    "    c2 = 'R'\n",
    "\n",
    "    data_ovr.loc[data_ovr[data_ovr['assignment'] != c1].index, 'assignment'] = c2\n",
    "\n",
    "    diff1 = (\n",
    "        data_ovr[(data_ovr[\"assignment\"] == c1)]\n",
    "        .drop(\"assignment\", 1)\n",
    "        .mean()\n",
    "        - data_ovr.mean()\n",
    "    )\n",
    "    diff2 = (\n",
    "        data_ovr[(data_ovr[\"assignment\"] == 'R')]\n",
    "        .drop(\"assignment\", 1)\n",
    "        .mean()\n",
    "        - data_ovr.mean()\n",
    "    )\n",
    "\n",
    "    diff1 = diff1.sort_values()\n",
    "    diff2 = diff2[diff1.index]\n",
    "\n",
    "    savename = \"{} proteome, cluster {} vs {}.png\".format('MV', c1, c2)\n",
    "    plot_diff(diff1, diff2, c1, c2, savename, 'MV')\n"
   ]
  },
  {
   "cell_type": "code",
   "execution_count": 11,
   "id": "a41e9e0b",
   "metadata": {},
   "outputs": [
    {
     "data": {
      "text/plain": [
       "Text(0.5, 1.0, 'MV, cluster 4 vs R')"
      ]
     },
     "execution_count": 11,
     "metadata": {},
     "output_type": "execute_result"
    },
    {
     "data": {
      "image/png": "[encoded data removed]",
      "text/plain": [
       "<Figure size 1152x648 with 1 Axes>"
      ]
     },
     "metadata": {},
     "output_type": "display_data"
    }
   ],
   "source": [
    "plt.figure(figsize=(16, 9))\n",
    "plt.plot(diff1.tolist(), color='r', label='cluster {}'.format(c1))\n",
    "plt.plot(diff2.tolist(), color='b', label='cluster {}'.format(c2))\n",
    "#plt.xticks(range(len(diff1)), diff1.index,  rotation=90,fontsize=15)\n",
    "plt.xticks(range(10), diff1.index[:10],  rotation=90,fontsize=5)\n",
    "plt.title('{}, cluster {} vs {}'.format('MV', c1, c2))"
   ]
  },
  {
   "cell_type": "code",
   "execution_count": null,
   "id": "80f7c91b",
   "metadata": {},
   "outputs": [],
   "source": []
  }
 ],
 "metadata": {
  "kernelspec": {
   "display_name": "Python 3 (ipykernel)",
   "language": "python",
   "name": "python3"
  },
  "language_info": {
   "codemirror_mode": {
    "name": "ipython",
    "version": 3
   },
   "file_extension": ".py",
   "mimetype": "text/x-python",
   "name": "python",
   "nbconvert_exporter": "python",
   "pygments_lexer": "ipython3",
   "version": "3.8.10"
  }
 },
 "nbformat": 4,
 "nbformat_minor": 5
}
