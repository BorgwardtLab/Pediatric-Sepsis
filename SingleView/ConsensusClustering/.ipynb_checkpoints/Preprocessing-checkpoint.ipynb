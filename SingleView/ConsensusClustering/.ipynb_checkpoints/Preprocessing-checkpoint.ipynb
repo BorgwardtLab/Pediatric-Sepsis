{
 "cells": [
  {
   "cell_type": "code",
   "execution_count": 1,
   "metadata": {},
   "outputs": [],
   "source": [
    "import pandas as pd\n",
    "import numpy as np\n",
    "from sklearn.cluster import SpectralClustering\n",
    "from mvlearn.cluster import MultiviewKMeans, MultiviewSphericalKMeans\n",
    "from sklearn.cluster import KMeans\n",
    "import numpy as np\n",
    "from sklearn.manifold import TSNE\n",
    "from sklearn.metrics import normalized_mutual_info_score as nmi_score\n",
    "import matplotlib.pyplot as plt\n",
    "import warnings\n",
    "warnings.filterwarnings(\"ignore\")\n",
    "from sklearn.preprocessing import StandardScaler\n",
    "from scipy.io import savemat\n",
    "from sklearn.ensemble import RandomForestRegressor\n",
    "import os"
   ]
  },
  {
   "cell_type": "markdown",
   "metadata": {},
   "source": [
    "# load and process data\n",
    "### only use sample with serum sampled between day 0 and 6 (387 samples)"
   ]
  },
  {
   "cell_type": "code",
   "execution_count": 2,
   "metadata": {},
   "outputs": [],
   "source": [
    "feature_dict = pd.read_pickle('selected_features.pkl')\n",
    "data_episode = pd.read_csv('../olinks/spss_mlcb_olink_episode.csv', index_col=0)\n",
    "data_episode = data_episode[(data_episode['sample.intv.d'] <=6) & (data_episode['sample.intv.d'] >=0)]"
   ]
  },
  {
   "cell_type": "code",
   "execution_count": 3,
   "metadata": {
    "scrolled": true
   },
   "outputs": [],
   "source": [
    "npx_raw = pd.read_csv('data/All Panels_2022_2020_raw_NPX_olink.csv', index_col=0)\n",
    "bcday = pd.read_csv('../data/spss_mlcb_day.csv',index_col=['sample.id'])\n",
    "bcday = bcday[bcday['redcap.event.name'] == 'day_sampling']\n",
    "bcday = bcday[bcday['data.available'] == 'yes']\n",
    "bcday_raw = bcday[bcday.index.isin(npx_raw.index)]\n",
    "bcday_raw['age.at.bc'] = data_episode['age.at.bc.days']\n",
    "\n",
    "npx_raw = npx_raw[npx_raw.index.isin(bcday_raw.index)]\n",
    "npx_raw = npx_raw.loc[bcday_raw.index]\n",
    "assert (npx_raw.index == bcday_raw.index).all()\n",
    "\n",
    "npx_raw_sub = npx_raw[npx_raw.index.isin(data_episode.index)]\n",
    "bcday_raw_sub = bcday_raw[bcday_raw.index.isin(data_episode.index)]\n",
    "assert (npx_raw_sub.index == bcday_raw_sub.index).all()\n",
    "\n",
    "data_episode_sub = data_episode[data_episode.index.isin(bcday_raw_sub.index)]\n",
    "bcday_raw_sub['fio2.high'] = bcday_raw_sub['fio2.high'].fillna(0.21)"
   ]
  },
  {
   "cell_type": "code",
   "execution_count": 4,
   "metadata": {},
   "outputs": [],
   "source": [
    "missing = bcday_raw_sub.isnull().sum().sort_values()\n",
    "missing_ratio = missing/len(bcday_raw_sub)\n",
    "to_drop = ['sepsis.3.complete', 'redcap.event.name', 'data.available']\n",
    "bcday_raw_sub = bcday_raw_sub.loc[:, ~bcday_raw_sub.columns.isin(to_drop)]"
   ]
  },
  {
   "cell_type": "code",
   "execution_count": 5,
   "metadata": {},
   "outputs": [],
   "source": [
    "CCCs = [col for col in data_episode_sub.columns if 'ccc' in col][:-1]\n",
    "CCCs = data_episode_sub[CCCs].replace(['yes', 'no'], [1, 0])\n",
    "Sex = data_episode_sub['sex'].replace(['male', 'female'], [1, 0])\n",
    "ABXs =  data_episode_sub[[col for col in data_episode_sub.columns if 'abx.change' in col][2:]]\n",
    "ABXs = ABXs.replace(['yes', 'no'], [1, 0])\n",
    "\n",
    "focus = pd.get_dummies(data_episode_sub['focus.grp'], prefix='focus')\n",
    "patho = pd.get_dummies(data_episode_sub['pathogen.grp'], prefix='patho')\n",
    "cahai = pd.get_dummies(data_episode_sub['cahai'], prefix='cahai')\n",
    "category = pd.get_dummies(data_episode_sub['category'], prefix='cate')\n",
    "ethni = pd.get_dummies(data_episode_sub['ethnicity'], prefix='eth')\n",
    "neo = data_episode_sub['neonate'].replace(['yes', 'no'], [1, 0])"
   ]
  },
  {
   "cell_type": "code",
   "execution_count": 6,
   "metadata": {},
   "outputs": [],
   "source": [
    "features_to_scale = ['temp.high', 'temp.low', 'rr.high', 'sato2.low', 'hr.high',\n",
    "                       'cap.refill', 'sbp.low', 'map.low', 'gcs.low', 'wcc.high', 'wcc.low',\n",
    "                       'anc.low', 'lymph.low', 'platelets.low', 'lactate.high', 'crea.high',\n",
    "                       'fio2.high', 'pao2.fio2.ratio.calc', 'spo2.fio2.ratio', 'pao2.fio2', 'alat.high']\n",
    "binary_features = [ 'niv', 'iv', 'hfnc', 'ecls', 'inotrope', 'crrt']\n",
    "bcday_raw_sub[binary_features] = bcday_raw_sub[binary_features].replace(['yes', 'no'], [1, 0])\n",
    "bcday_raw_sub = pd.concat([bcday_raw_sub, Sex, CCCs, ABXs, focus, patho, cahai, category, ethni, neo], 1)"
   ]
  },
  {
   "cell_type": "code",
   "execution_count": 7,
   "metadata": {},
   "outputs": [],
   "source": [
    "todrop = ['fio2.high.abga','ecls.type', 'inotrope.adr.dose', 'inotrope.noradr.dose', 'inotrope.dop.dose',\n",
    "           'inotrope.dobut.dose', 'inotrope.vaso.dose', 'inotrope.milr.dose', 'bili.direct', 'pct.high',\n",
    "           'pao2.fio2.ratio', 'spo2.fio2.ratio', 'pao2.fio2.ratio.calc', 'fio2.high.abga',\n",
    "           'pao2.fio2']\n",
    "bcday_raw_sub = bcday_raw_sub.loc[:, ~bcday_raw_sub.columns.isin(todrop)]"
   ]
  },
  {
   "cell_type": "code",
   "execution_count": null,
   "metadata": {},
   "outputs": [],
   "source": [
    "physio_view_cols = ['temp.high', 'temp.low', 'rr.high', 'sato2.low', 'hr.high',\n",
    "                   'cap.refill', 'sbp.low', 'map.low', 'gcs.low', 'fio2.high', 'wcc.high', \n",
    "                   'wcc.low', 'anc.low', 'lymph.low', 'platelets.low','paco2.high', 'pao2.low', \n",
    "                   'lactate.high', 'bili.high', 'crea.high', 'inr.high', 'alat.high', \n",
    "                   'cons05.resp', 'cons05.cvs', 'cons05.cns', 'cons05.ren', 'cons05.hep', 'cons05.hem', 'cons05.score', \n",
    "                   'pelod.resp', 'pelod.cvs', 'pelod.cns', 'pelod.ren', 'pelod.hem', 'pelod.score', \n",
    "                   'psofa.resp', 'psofa.cvs', 'psofa.cns', 'psofa.ren','psofa.hep', 'psofa.hem', 'psofa.score',\n",
    "                   'age.at.bc', 'ccc.summary', 'niv', 'iv', 'hfnc',  'ecls', 'inotrope', 'crrt']\n",
    "\n",
    "\n",
    "contextual_view_cols = ['ccc.neuro', \n",
    "                       'ccc.cardio', 'ccc.pulmo', 'ccc.uro', 'ccc.gastro', 'ccc.haemimmuno',\n",
    "                       'ccc.metabol', 'ccc.malform', 'ccc.onco', 'ccc.neo', 'ccc.surg',\n",
    "                       'ccc.techdep', 'ccc.transplant', 'abx.change.pen', 'abx.change.oxa',\n",
    "                       'abx.change.pip', 'abx.change.cla','abx.change.cxm',\n",
    "                       'abx.change.cro', 'abx.change.fep', 'abx.change.mem', 'abx.change.amk',\n",
    "                        'abx.change.van', 'abx.change.cip', 'abx.change.lzd',\n",
    "                       'abx.change.cli', 'abx.change.mtz', 'abx.change.sxt', \n",
    "                       'focus_abdominal', 'focus_clabsi', 'focus_cns',\n",
    "                       'focus_earnosethroat', 'focus_endocarditis', 'focus_osteoarticular',\n",
    "                       'focus_other', 'focus_pneumonia', 'focus_primbsi', 'focus_skin',\n",
    "                       'focus_toxic_shock', 'focus_uti', 'focus_wound', 'patho_candida',\n",
    "                       'patho_cons', 'patho_ecoli', 'patho_enterococcus', 'patho_hinfluenzae',\n",
    "                       'patho_klebsiella', 'patho_nmeningitidis', 'patho_othergneg',\n",
    "                       'patho_othergpos', 'patho_paeruginosa', 'patho_sagalactiae',\n",
    "                       'patho_saureus', 'patho_spneumoniae', 'patho_spyogenes',\n",
    "                       'patho_viridansgroup', 'cahai_ca', 'cahai_eos', 'cahai_hai',\n",
    "                       'cahai_los.ca', 'cahai_los.hai',\n",
    "                       'cate_comorbidity', 'cate_healthy', 'cate_neonate', 'eth_african',\n",
    "                       'eth_asian', 'eth_caucasian', 'eth_jewish', 'eth_mixed', 'neonate', 'sex']\n",
    "\n",
    "all_cols = physio_view_cols + contextual_view_cols"
   ]
  },
  {
   "cell_type": "code",
   "execution_count": null,
   "metadata": {},
   "outputs": [],
   "source": [
    "continous_cols = [col for col in bcday_raw_sub.columns if bcday_raw_sub[col].dropna().unique().shape[0]>2] \n",
    "binary_cols = [col for col in bcday_raw_sub.columns if bcday_raw_sub[col].dropna().unique().shape[0]<=2]\n",
    "addtional_cols = ['cons05.resp',\n",
    "                 'cons05.cvs',\n",
    "                 'cons05.cns',\n",
    "                 'cons05.ren',\n",
    "                 'cons05.hep',\n",
    "                 'cons05.hem',\n",
    "                 'pelod.ren',]\n",
    "continous_cols =  continous_cols + addtional_cols\n",
    "binary_cols = [col for col in binary_cols if col not in addtional_cols]"
   ]
  },
  {
   "cell_type": "code",
   "execution_count": null,
   "metadata": {},
   "outputs": [],
   "source": [
    "contextual_view_raw = bcday_raw_sub[binary_cols]\n",
    "phyiso_view_raw = bcday_raw_sub[continous_cols]\n",
    "proteome_view_raw = npx_raw_sub\n",
    "bcday_raw_sub.to_csv('data/bcday_raw_npx.csv')"
   ]
  },
  {
   "cell_type": "code",
   "execution_count": null,
   "metadata": {},
   "outputs": [],
   "source": [
    "physio_cols = ['temp.high', 'temp.low', 'rr.high', 'sato2.low', 'hr.high',\n",
    "               'cap.refill', 'sbp.low', 'map.low', 'gcs.low', 'fio2.high', 'wcc.high', \n",
    "               'wcc.low', 'anc.low', 'lymph.low', 'platelets.low',\n",
    "               'paco2.high', 'pao2.low', 'lactate.high', 'bili.high', 'crea.high',\n",
    "               'inr.high', 'alat.high']\n",
    "\n",
    "missing = phyiso_view_raw[physio_cols]\n",
    "plt.figure(figsize=(9, 6))\n",
    "ax = (missing.isnull().sum()/len(missing)).sort_values().plot.bar(fontsize=20)\n",
    "ax.set_ylabel('missingness',fontsize=20)\n",
    "plt.show()"
   ]
  },
  {
   "cell_type": "code",
   "execution_count": null,
   "metadata": {
    "scrolled": true
   },
   "outputs": [],
   "source": [
    "for col in proteome_view_raw.columns:\n",
    "    plt.figure(figsize=(12 ,9))\n",
    "    plt.hist(proteome_view_raw[col], weights=np.ones_like(proteome_view_raw[col]) / len(proteome_view_raw[col])\n",
    "             , bins=20, )\n",
    "    plt.title(col, fontsize=20)\n",
    "    #plt.savefig('Proteome/{}.png'.format(col), dpi=300)\n",
    "    plt.show()"
   ]
  },
  {
   "cell_type": "code",
   "execution_count": null,
   "metadata": {},
   "outputs": [],
   "source": [
    "plt.figure(figsize=(12 ,9))\n",
    "plt.hist(proteome_view_raw.isnull().sum()/len(proteome_view_raw),\n",
    "         weights=np.ones_like(proteome_view_raw)[0] / len(proteome_view_raw)\n",
    "         , bins=25, )\n",
    "plt.title('Proteomic view missingness', fontsize=20)\n",
    "plt.savefig('Proteomic view missingness.png', dpi=300)\n",
    "plt.show()"
   ]
  },
  {
   "cell_type": "code",
   "execution_count": null,
   "metadata": {
    "scrolled": false
   },
   "outputs": [],
   "source": [
    "plt.figure(figsize=(12 ,9))\n",
    "plt.hist(phyiso_view_raw.isnull().sum()/len(phyiso_view_raw), \n",
    "         weights=np.ones_like(phyiso_view_raw)[0] / len(phyiso_view_raw),bins=10)\n",
    "plt.title('Physiological view missingness', fontsize=20)\n",
    "plt.savefig('Physiological view missingness.png', dpi=300)\n",
    "plt.show()"
   ]
  },
  {
   "cell_type": "code",
   "execution_count": null,
   "metadata": {},
   "outputs": [],
   "source": [
    "plt.figure(figsize=(12 ,9))\n",
    "plt.hist(contextual_view_raw.isnull().sum()/len(contextual_view_raw),\n",
    "         weights=np.ones_like(contextual_view_raw)[0] / len(contextual_view_raw), \n",
    "         density=True,bins=10)\n",
    "plt.title('Contextual view missingness', fontsize=20)\n",
    "plt.savefig('Contextual view missingness.png', dpi=300)\n",
    "plt.show()"
   ]
  },
  {
   "cell_type": "markdown",
   "metadata": {},
   "source": [
    "## MICE imputation for the phyiso_view and proteome_view\n",
    "### 0 imputation for contextual_view"
   ]
  },
  {
   "cell_type": "code",
   "execution_count": null,
   "metadata": {},
   "outputs": [],
   "source": [
    "from sklearn.experimental import enable_iterative_imputer\n",
    "from sklearn.impute import IterativeImputer\n",
    "impute_estimator = RandomForestRegressor(\n",
    "        n_estimators=4,\n",
    "        max_depth=10,\n",
    "        bootstrap=True,\n",
    "        max_samples=0.5,\n",
    "        n_jobs=-1,\n",
    "        random_state=0,\n",
    "    )\n",
    "imp = IterativeImputer(max_iter=20, estimator=impute_estimator, random_state=0)"
   ]
  },
  {
   "cell_type": "code",
   "execution_count": null,
   "metadata": {},
   "outputs": [],
   "source": [
    "proteome_view =  pd.DataFrame(imp.fit_transform(proteome_view_raw),\n",
    "                              index=proteome_view_raw.index, \n",
    "                              columns=proteome_view_raw.columns)\n",
    "phyiso_view =  pd.DataFrame(imp.fit_transform(phyiso_view_raw),\n",
    "                              index=phyiso_view_raw.index, \n",
    "                              columns=phyiso_view_raw.columns)\n",
    "contextual_view = contextual_view.fillna(0)"
   ]
  },
  {
   "cell_type": "code",
   "execution_count": null,
   "metadata": {},
   "outputs": [],
   "source": [
    "phyiso_view.to_csv('data/PhysioView.csv')\n",
    "proteome_view.to_csv('data/ProteomeView.csv')\n",
    "contextual_view.to_csv('data/ContextualView.csv')\n",
    "assert (phyiso_view.index == contextual_view.index).all() & (phyiso_view.index == contextual_view.index).all()"
   ]
  },
  {
   "cell_type": "markdown",
   "metadata": {},
   "source": [
    "# log transform"
   ]
  },
  {
   "cell_type": "code",
   "execution_count": 3,
   "metadata": {
    "scrolled": false
   },
   "outputs": [],
   "source": [
    "physio_view = pd.read_csv('data/PhysioViewNormalImputed.csv', index_col=0)\n",
    "proteome_view = pd.read_csv('data/ProteomeViewMICEimputed.csv', index_col=0)\n",
    "contextual_view = pd.read_csv('data/ContextualViewZeroImputed.csv', index_col=0)\n",
    "clinical_view = pd.concat([physio_view, contextual_view], 1)\n",
    "clinical_view = clinical_view.loc[:, ~clinical_view.columns.isin(['pupils', 'crp.high', 'neonate', 'abx.change.cfz', 'abx.change.ery'])]\n",
    "#clinical_view = clinical_view.drop(['pupils', 'crp.high', 'neonate', 'abx.change.cfz', 'abx.change.ery'], 1)"
   ]
  },
  {
   "cell_type": "code",
   "execution_count": 4,
   "metadata": {},
   "outputs": [
    {
     "data": {
      "text/plain": [
       "True"
      ]
     },
     "execution_count": 4,
     "metadata": {},
     "output_type": "execute_result"
    }
   ],
   "source": [
    "(contextual_view['neonate'] == contextual_view['cate_neonate']).all()"
   ]
  },
  {
   "cell_type": "code",
   "execution_count": 5,
   "metadata": {},
   "outputs": [],
   "source": [
    "physio_view_cols = ['temp.high', 'temp.low', 'rr.high', 'sato2.low', 'hr.high',\n",
    "                   'cap.refill', 'sbp.low', 'map.low', 'gcs.low', 'fio2.high', 'wcc.high', \n",
    "                   'wcc.low', 'anc.low', 'lymph.low', 'platelets.low','paco2.high', 'pao2.low', \n",
    "                   'lactate.high', 'bili.high', 'crea.high', 'inr.high', 'alat.high', \n",
    "                   'cons05.resp', 'cons05.cvs', 'cons05.cns', 'cons05.ren', 'cons05.hep', 'cons05.hem', 'cons05.score', \n",
    "                   'pelod.resp', 'pelod.cvs', 'pelod.cns', 'pelod.ren', 'pelod.hem', 'pelod.score', \n",
    "                   'psofa.resp', 'psofa.cvs', 'psofa.cns', 'psofa.ren','psofa.hep', 'psofa.hem', 'psofa.score',\n",
    "                   'age.at.bc', 'ccc.summary', 'niv', 'iv', 'hfnc',  'ecls', 'inotrope', 'crrt']\n",
    "\n",
    "\n",
    "contextual_view_cols = ['ccc.neuro', \n",
    "                       'ccc.cardio', 'ccc.pulmo', 'ccc.uro', 'ccc.gastro', 'ccc.haemimmuno',\n",
    "                       'ccc.metabol', 'ccc.malform', 'ccc.onco', 'ccc.neo', 'ccc.surg',\n",
    "                       'ccc.techdep', 'ccc.transplant', 'abx.change.pen', 'abx.change.oxa',\n",
    "                       'abx.change.pip', 'abx.change.cla', 'abx.change.cxm',\n",
    "                       'abx.change.cro', 'abx.change.fep', 'abx.change.mem', 'abx.change.amk',\n",
    "                        'abx.change.van', 'abx.change.cip', 'abx.change.lzd',\n",
    "                       'abx.change.cli', 'abx.change.mtz', 'abx.change.sxt', \n",
    "                       'focus_abdominal', 'focus_clabsi', 'focus_cns',\n",
    "                       'focus_earnosethroat', 'focus_endocarditis', 'focus_osteoarticular',\n",
    "                       'focus_other', 'focus_pneumonia', 'focus_primbsi', 'focus_skin',\n",
    "                       'focus_toxic_shock', 'focus_uti', 'focus_wound', 'patho_candida',\n",
    "                       'patho_cons', 'patho_ecoli', 'patho_enterococcus', 'patho_hinfluenzae',\n",
    "                       'patho_klebsiella', 'patho_nmeningitidis', 'patho_othergneg',\n",
    "                       'patho_othergpos', 'patho_paeruginosa', 'patho_sagalactiae',\n",
    "                       'patho_saureus', 'patho_spneumoniae', 'patho_spyogenes',\n",
    "                       'patho_viridansgroup', 'cahai_ca', 'cahai_eos', 'cahai_hai',\n",
    "                       'cahai_los.ca', 'cahai_los.hai',\n",
    "                       'cate_comorbidity', 'cate_healthy', 'cate_neonate', 'eth_african',\n",
    "                       'eth_asian', 'eth_caucasian',  'eth_jewish', 'eth_mixed',  'sex']\n",
    "\n",
    "all_cols = physio_view_cols + contextual_view_cols\n",
    "\n",
    "cols_to_log = ['alat.high', \n",
    "                'anc.low',\n",
    "                'bili.high', \n",
    "                'cap.refill', \n",
    "                'crea.high',\n",
    "                'lactate.high',\n",
    "                'lymph.low', \n",
    "                'pao2.low',\n",
    "                'wcc.high', \n",
    "                'wcc.low',\n",
    "                'cons05.score', \n",
    "                'pelod.score',\n",
    "                'psofa.score',\n",
    "                 'sato2.low',\n",
    "                 'fio2.high']\n",
    "\n",
    "clinical_view['sato2.low'] = 100 - clinical_view['sato2.low']\n",
    "clinical_view['fio2.high'] = clinical_view['fio2.high'] - 0.21\n",
    "clinical_view[cols_to_log] = np.log(clinical_view[cols_to_log] + 1)\n",
    "#clinical_view = clinical_view.replace([np.inf, -np.inf], np.nan).fillna(0)"
   ]
  },
  {
   "cell_type": "markdown",
   "metadata": {},
   "source": [
    "# PCA on binarys"
   ]
  },
  {
   "cell_type": "code",
   "execution_count": 6,
   "metadata": {},
   "outputs": [
    {
     "name": "stdout",
     "output_type": "stream",
     "text": [
      "15\n",
      "18\n"
     ]
    }
   ],
   "source": [
    "demographics = ['cate_neonate', 'eth_asian', 'eth_mixed', \n",
    "                'eth_caucasian', 'eth_african', 'eth_jewish','sex']\n",
    "\n",
    "chronic_conditions = ['ccc.neuro', 'ccc.cardio', 'ccc.pulmo', 'ccc.uro', 'ccc.gastro', 'ccc.haemimmuno',\n",
    "                      'ccc.metabol', 'ccc.malform', 'ccc.onco', 'ccc.neo', 'ccc.surg', 'ccc.techdep',\n",
    "                      'ccc.transplant', 'cate_comorbidity', 'cate_healthy']\n",
    "print(len(chronic_conditions))\n",
    "\n",
    "cons_scores = ['cons05.resp', 'cons05.cvs', 'cons05.cns', 'cons05.ren', 'cons05.hep', 'cons05.hem']\n",
    "\n",
    "infections = ['focus_abdominal', 'focus_clabsi', 'focus_cns',\n",
    "               'focus_earnosethroat', 'focus_endocarditis', 'focus_osteoarticular',\n",
    "               'focus_other', 'focus_pneumonia', 'focus_primbsi', 'focus_skin',\n",
    "               'focus_toxic_shock', 'focus_uti', 'focus_wound', 'cahai_ca', 'cahai_eos', 'cahai_hai',\n",
    "               'cahai_los.ca', 'cahai_los.hai']\n",
    "print(len(infections))\n",
    "\n",
    "\n",
    "pathogen = ['patho_candida', 'patho_cons', 'patho_ecoli', 'patho_enterococcus', \n",
    "            'patho_hinfluenzae', 'patho_klebsiella', 'patho_nmeningitidis', \n",
    "            'patho_othergneg',\n",
    "           'patho_othergpos', 'patho_paeruginosa', 'patho_sagalactiae',\n",
    "           'patho_saureus', 'patho_spneumoniae', 'patho_spyogenes',\n",
    "           'patho_viridansgroup']\n",
    "\n",
    "\n",
    "\n",
    "treatment = ['abx.change.pen', 'abx.change.oxa',\n",
    "           'abx.change.pip', 'abx.change.cla', 'abx.change.cxm',\n",
    "           'abx.change.cro', 'abx.change.fep', 'abx.change.mem', 'abx.change.amk',\n",
    "            'abx.change.van', 'abx.change.cip', 'abx.change.lzd',\n",
    "           'abx.change.cli', 'abx.change.mtz', 'abx.change.sxt', \n",
    "           'niv', 'iv', 'hfnc',  'ecls', 'inotrope', 'crrt']\n",
    "\n",
    "binarys = {'demographics': demographics, \n",
    "           'chronic_condition':chronic_conditions, \n",
    "           'cons_scores':cons_scores, \n",
    "           'infections':infections,\n",
    "           'pathogen':pathogen, \n",
    "           'treatment':treatment}\n",
    "\n",
    "binary_cols = [] \n",
    "for key, value in binarys.items():\n",
    "    binary_cols.extend(value)"
   ]
  },
  {
   "cell_type": "code",
   "execution_count": 7,
   "metadata": {},
   "outputs": [],
   "source": [
    "continous_cols = [col for col in all_cols if col not in binary_cols] \n",
    "clinical_continous = clinical_view[continous_cols]\n",
    "clinical_binary = clinical_view[binary_cols]\n",
    "\n",
    "sc = StandardScaler()\n",
    "clinical_continous[clinical_continous.columns] = sc.fit_transform(clinical_continous)\n",
    "clinical_view_new = pd.concat([clinical_continous, clinical_binary], 1)\n",
    "clinical_view_new.to_csv('data/ClinicalViewStandardized_NormalImputed.csv')"
   ]
  },
  {
   "cell_type": "code",
   "execution_count": 52,
   "metadata": {},
   "outputs": [],
   "source": [
    "from sklearn.decomposition import PCA\n",
    "binary_cols = []\n",
    "binary_data = []\n",
    "pc_cols = []\n",
    "k = 0\n",
    "for key, value in binarys.items():\n",
    "    subdata = clinical_view[value]\n",
    "    pca = PCA()\n",
    "    subdata = pca.fit_transform(subdata)\n",
    "    subdata = pd.DataFrame(subdata,\n",
    "                           index=clinical_view[value].index, \n",
    "                           columns=value)\n",
    "    for i in range(subdata.shape[1]):\n",
    "        plt.figure(figsize=(9, 6))\n",
    "        plt.hist(subdata[value[i]], bins=50)\n",
    "        plt.title('{}_PC_{}'.format(key, i + 1), fontsize=20)\n",
    "        plt.savefig('Binary_PCA_plots/PCA_{}_PC_{}.png'.format(key, i + 1))\n",
    "        plt.close()\n",
    "    binary_cols.extend(value)\n",
    "    binary_data.append(subdata.loc[:, ~(pca.explained_variance_.cumsum() > 0.95)])\n",
    "    pc_cols.extend(['{}_PC_{}'.format(key, i + 1) for i in range(binary_data[k].shape[1])])\n",
    "    k += 1"
   ]
  },
  {
   "cell_type": "code",
   "execution_count": 25,
   "metadata": {
    "scrolled": true
   },
   "outputs": [
    {
     "name": "stdout",
     "output_type": "stream",
     "text": [
      "demographics:\n",
      "PC 1 = -0.086 * cate_neonate + 0.042 * eth_asian + -0.054 * eth_caucasian + -0.01 * eth_african + -0.004 * eth_jewish + -0.994 * sex\n",
      "PC 2 = 0.98 * cate_neonate + -0.068 * eth_asian + 0.149 * eth_caucasian + -0.065 * eth_african + 0.007 * eth_jewish + -0.096 * sex\n",
      "PC 3 = 0.178 * cate_neonate + 0.231 * eth_asian + -0.896 * eth_caucasian + 0.331 * eth_african + 0.019 * eth_jewish + 0.04 * sex\n",
      "PC 4 = 0.016 * cate_neonate + 0.682 * eth_asian + -0.087 * eth_caucasian + -0.725 * eth_african + 0.009 * eth_jewish + 0.039 * sex\n",
      "PC 5 = -0.027 * cate_neonate + -0.687 * eth_asian + -0.401 * eth_caucasian + -0.597 * eth_african + 0.095 * eth_jewish + 0.001 * sex\n",
      "PC 6 = -0.009 * cate_neonate + 0.056 * eth_asian + 0.055 * eth_caucasian + 0.058 * eth_african + 0.995 * eth_jewish + -0.005 * sex\n",
      "--------------------------------------------------------------------------------\n",
      "chronic_condition:\n",
      "PC 1 = 0.039 * ccc.neuro + 0.141 * ccc.cardio + 0.048 * ccc.pulmo + 0.078 * ccc.uro + 0.083 * ccc.gastro + 0.027 * ccc.haemimmuno + 0.016 * ccc.metabol + 0.03 * ccc.malform + 0.301 * ccc.onco + -0.02 * ccc.neo + 0.124 * ccc.surg + 0.011 * ccc.techdep + 0.021 * ccc.transplant + 0.688 * cate_comorbidity + -0.617 * cate_healthy\n",
      "PC 2 = 0.008 * ccc.neuro + 0.178 * ccc.cardio + 0.239 * ccc.pulmo + 0.018 * ccc.uro + 0.162 * ccc.gastro + -0.004 * ccc.haemimmuno + -0.0 * ccc.metabol + 0.107 * ccc.malform + -0.414 * ccc.onco + 0.547 * ccc.neo + 0.403 * ccc.surg + -0.002 * ccc.techdep + -0.0 * ccc.transplant + -0.302 * cate_comorbidity + -0.386 * cate_healthy\n",
      "PC 3 = 0.087 * ccc.neuro + 0.486 * ccc.cardio + 0.017 * ccc.pulmo + 0.157 * ccc.uro + 0.084 * ccc.gastro + 0.053 * ccc.haemimmuno + 0.026 * ccc.metabol + 0.078 * ccc.malform + -0.535 * ccc.onco + -0.401 * ccc.neo + 0.251 * ccc.surg + -0.005 * ccc.techdep + 0.043 * ccc.transplant + 0.32 * cate_comorbidity + 0.316 * cate_healthy\n",
      "PC 4 = -0.16 * ccc.neuro + -0.473 * ccc.cardio + 0.148 * ccc.pulmo + -0.055 * ccc.uro + 0.306 * ccc.gastro + -0.032 * ccc.haemimmuno + -0.019 * ccc.metabol + -0.151 * ccc.malform + 0.164 * ccc.onco + 0.008 * ccc.neo + 0.658 * ccc.surg + -0.043 * ccc.techdep + -0.007 * ccc.transplant + 0.183 * cate_comorbidity + 0.333 * cate_healthy\n",
      "PC 5 = 0.125 * ccc.neuro + -0.477 * ccc.cardio + 0.084 * ccc.pulmo + 0.411 * ccc.uro + 0.467 * ccc.gastro + -0.002 * ccc.haemimmuno + 0.072 * ccc.metabol + -0.131 * ccc.malform + -0.374 * ccc.onco + -0.152 * ccc.neo + -0.354 * ccc.surg + 0.049 * ccc.techdep + 0.108 * ccc.transplant + 0.031 * cate_comorbidity + -0.194 * cate_healthy\n",
      "PC 6 = 0.005 * ccc.neuro + 0.324 * ccc.cardio + 0.465 * ccc.pulmo + -0.29 * ccc.uro + 0.566 * ccc.gastro + -0.04 * ccc.haemimmuno + 0.011 * ccc.metabol + 0.04 * ccc.malform + 0.217 * ccc.onco + 0.161 * ccc.neo + -0.354 * ccc.surg + -0.067 * ccc.techdep + 0.038 * ccc.transplant + 0.061 * cate_comorbidity + 0.249 * cate_healthy\n",
      "PC 7 = 0.077 * ccc.neuro + 0.002 * ccc.cardio + 0.419 * ccc.pulmo + 0.65 * ccc.uro + -0.368 * ccc.gastro + -0.061 * ccc.haemimmuno + 0.043 * ccc.metabol + 0.055 * ccc.malform + 0.14 * ccc.onco + 0.336 * ccc.neo + -0.07 * ccc.surg + -0.096 * ccc.techdep + -0.013 * ccc.transplant + 0.154 * cate_comorbidity + 0.285 * cate_healthy\n",
      "PC 8 = 0.123 * ccc.neuro + -0.118 * ccc.cardio + 0.594 * ccc.pulmo + -0.358 * ccc.uro + -0.378 * ccc.gastro + 0.099 * ccc.haemimmuno + 0.036 * ccc.metabol + -0.458 * ccc.malform + -0.204 * ccc.onco + -0.206 * ccc.neo + -0.03 * ccc.surg + 0.112 * ccc.techdep + -0.093 * ccc.transplant + 0.05 * cate_comorbidity + -0.13 * cate_healthy\n",
      "PC 9 = 0.731 * ccc.neuro + -0.207 * ccc.cardio + 0.094 * ccc.pulmo + -0.175 * ccc.uro + -0.03 * ccc.gastro + -0.104 * ccc.haemimmuno + 0.234 * ccc.metabol + 0.527 * ccc.malform + 0.076 * ccc.onco + -0.12 * ccc.neo + 0.116 * ccc.surg + -0.04 * ccc.techdep + -0.025 * ccc.transplant + -0.05 * cate_comorbidity + 0.014 * cate_healthy\n",
      "PC 10 = -0.289 * ccc.neuro + 0.099 * ccc.cardio + 0.35 * ccc.pulmo + 0.24 * ccc.uro + 0.046 * ccc.gastro + -0.24 * ccc.haemimmuno + -0.107 * ccc.metabol + 0.232 * ccc.malform + 0.232 * ccc.onco + -0.555 * ccc.neo + 0.132 * ccc.surg + -0.035 * ccc.techdep + -0.086 * ccc.transplant + -0.402 * cate_comorbidity + -0.229 * cate_healthy\n",
      "PC 11 = 0.404 * ccc.neuro + 0.228 * ccc.cardio + -0.153 * ccc.pulmo + 0.124 * ccc.uro + 0.086 * ccc.gastro + -0.365 * ccc.haemimmuno + 0.034 * ccc.metabol + -0.586 * ccc.malform + 0.164 * ccc.onco + -0.042 * ccc.neo + 0.129 * ccc.surg + -0.395 * ccc.techdep + 0.15 * ccc.transplant + -0.185 * cate_comorbidity + -0.052 * cate_healthy\n",
      "PC 12 = 0.037 * ccc.neuro + 0.055 * ccc.cardio + -0.044 * ccc.pulmo + -0.004 * ccc.uro + -0.002 * ccc.gastro + -0.637 * ccc.haemimmuno + 0.002 * ccc.metabol + -0.068 * ccc.malform + -0.003 * ccc.onco + 0.082 * ccc.neo + 0.011 * ccc.surg + 0.752 * ccc.techdep + 0.053 * ccc.transplant + 0.064 * cate_comorbidity + 0.064 * cate_healthy\n",
      "PC 13 = 0.292 * ccc.neuro + 0.164 * ccc.cardio + -0.012 * ccc.pulmo + 0.231 * ccc.uro + 0.15 * ccc.gastro + 0.603 * ccc.haemimmuno + -0.049 * ccc.metabol + -0.184 * ccc.malform + 0.293 * ccc.onco + -0.056 * ccc.neo + 0.139 * ccc.surg + 0.494 * ccc.techdep + -0.014 * ccc.transplant + -0.243 * cate_comorbidity + 0.03 * cate_healthy\n",
      "PC 14 = -0.008 * ccc.neuro + -0.05 * ccc.cardio + 0.098 * ccc.pulmo + -0.072 * ccc.uro + -0.124 * ccc.gastro + 0.069 * ccc.haemimmuno + -0.272 * ccc.metabol + 0.107 * ccc.malform + 0.019 * ccc.onco + -0.03 * ccc.neo + 0.027 * ccc.surg + 0.017 * ccc.techdep + 0.935 * ccc.transplant + -0.022 * cate_comorbidity + -0.006 * cate_healthy\n",
      "PC 15 = -0.246 * ccc.neuro + 0.062 * ccc.cardio + -0.002 * ccc.pulmo + 0.006 * ccc.uro + -0.028 * ccc.gastro + 0.063 * ccc.haemimmuno + 0.92 * ccc.metabol + -0.045 * ccc.malform + 0.064 * ccc.onco + -0.03 * ccc.neo + 0.038 * ccc.surg + 0.047 * ccc.techdep + 0.26 * ccc.transplant + -0.076 * cate_comorbidity + -0.016 * cate_healthy\n",
      "--------------------------------------------------------------------------------\n",
      "cons_scores:\n",
      "PC 1 = 0.656 * cons05.resp + 0.571 * cons05.cvs + 0.308 * cons05.cns + 0.035 * cons05.ren + 0.12 * cons05.hep + 0.365 * cons05.hem\n",
      "PC 2 = -0.501 * cons05.resp + 0.064 * cons05.cvs + -0.114 * cons05.cns + -0.028 * cons05.ren + 0.303 * cons05.hep + 0.8 * cons05.hem\n",
      "PC 3 = -0.513 * cons05.resp + 0.777 * cons05.cvs + 0.093 * cons05.cns + -0.046 * cons05.ren + -0.083 * cons05.hep + -0.34 * cons05.hem\n",
      "PC 4 = -0.227 * cons05.resp + -0.242 * cons05.cvs + 0.91 * cons05.cns + 0.006 * cons05.ren + -0.228 * cons05.hep + 0.094 * cons05.hem\n",
      "PC 5 = -0.016 * cons05.resp + -0.087 * cons05.cvs + 0.234 * cons05.cns + -0.108 * cons05.ren + 0.908 * cons05.hep + -0.318 * cons05.hem\n",
      "PC 6 = -0.062 * cons05.resp + 0.01 * cons05.cvs + 0.01 * cons05.cns + 0.992 * cons05.ren + 0.101 * cons05.hep + -0.041 * cons05.hem\n",
      "--------------------------------------------------------------------------------\n",
      "infections:\n",
      "PC 1 = -0.026 * focus_abdominal + 0.444 * focus_clabsi + -0.041 * focus_cns + -0.011 * focus_earnosethroat + -0.007 * focus_endocarditis + -0.093 * focus_osteoarticular + -0.015 * focus_other + -0.139 * focus_pneumonia + 0.011 * focus_primbsi + -0.06 * focus_skin + -0.007 * focus_toxic_shock + -0.089 * focus_uti + 0.032 * focus_wound + -0.733 * cahai_ca + 0.041 * cahai_eos + 0.376 * cahai_hai + 0.038 * cahai_los.ca + 0.278 * cahai_los.hai\n",
      "PC 2 = 0.019 * focus_abdominal + -0.664 * focus_clabsi + 0.05 * focus_cns + 0.014 * focus_earnosethroat + 0.004 * focus_endocarditis + -0.032 * focus_osteoarticular + 0.001 * focus_other + -0.028 * focus_pneumonia + 0.501 * focus_primbsi + -0.012 * focus_skin + -0.002 * focus_toxic_shock + 0.113 * focus_uti + 0.036 * focus_wound + -0.402 * cahai_ca + 0.255 * cahai_eos + 0.019 * cahai_hai + 0.23 * cahai_los.ca + -0.101 * cahai_los.hai\n",
      "PC 3 = -0.051 * focus_abdominal + 0.105 * focus_clabsi + -0.015 * focus_cns + -0.029 * focus_earnosethroat + -0.017 * focus_endocarditis + 0.039 * focus_osteoarticular + -0.019 * focus_other + -0.121 * focus_pneumonia + 0.214 * focus_primbsi + 0.001 * focus_skin + -0.001 * focus_toxic_shock + -0.048 * focus_uti + -0.058 * focus_wound + -0.034 * cahai_ca + 0.099 * cahai_eos + -0.72 * cahai_hai + 0.033 * cahai_los.ca + 0.622 * cahai_los.hai\n",
      "PC 4 = 0.018 * focus_abdominal + -0.178 * focus_clabsi + 0.016 * focus_cns + 0.02 * focus_earnosethroat + 0.005 * focus_endocarditis + 0.002 * focus_osteoarticular + 0.003 * focus_other + -0.047 * focus_pneumonia + -0.546 * focus_primbsi + 0.011 * focus_skin + -0.001 * focus_toxic_shock + 0.665 * focus_uti + 0.031 * focus_wound + -0.177 * cahai_ca + -0.212 * cahai_eos + -0.101 * cahai_hai + 0.334 * cahai_los.ca + 0.156 * cahai_los.hai\n",
      "PC 5 = 0.189 * focus_abdominal + -0.406 * focus_clabsi + 0.124 * focus_cns + 0.016 * focus_earnosethroat + 0.033 * focus_endocarditis + 0.138 * focus_osteoarticular + 0.036 * focus_other + 0.45 * focus_pneumonia + -0.375 * focus_primbsi + 0.14 * focus_skin + 0.001 * focus_toxic_shock + -0.429 * focus_uti + 0.083 * focus_wound + -0.168 * cahai_ca + -0.047 * cahai_eos + 0.067 * cahai_hai + -0.211 * cahai_los.ca + 0.359 * cahai_los.hai\n",
      "PC 6 = -0.238 * focus_abdominal + 0.161 * focus_clabsi + -0.198 * focus_cns + -0.022 * focus_earnosethroat + -0.032 * focus_endocarditis + -0.344 * focus_osteoarticular + -0.042 * focus_other + 0.795 * focus_pneumonia + 0.097 * focus_primbsi + -0.226 * focus_skin + -0.006 * focus_toxic_shock + 0.097 * focus_uti + -0.043 * focus_wound + -0.048 * cahai_ca + 0.028 * cahai_eos + -0.111 * cahai_hai + 0.185 * cahai_los.ca + -0.054 * cahai_los.hai\n",
      "PC 7 = -0.109 * focus_abdominal + 0.099 * focus_clabsi + 0.806 * focus_cns + 0.004 * focus_earnosethroat + -0.016 * focus_endocarditis + -0.243 * focus_osteoarticular + -0.018 * focus_other + -0.026 * focus_pneumonia + -0.227 * focus_primbsi + -0.128 * focus_skin + 0.0 * focus_toxic_shock + -0.1 * focus_uti + -0.041 * focus_wound + -0.061 * cahai_ca + 0.342 * cahai_eos + -0.168 * cahai_hai + 0.074 * cahai_los.ca + -0.186 * cahai_los.hai\n",
      "PC 8 = -0.331 * focus_abdominal + 0.03 * focus_clabsi + 0.046 * focus_cns + 0.01 * focus_earnosethroat + -0.011 * focus_endocarditis + 0.781 * focus_osteoarticular + -0.017 * focus_other + 0.076 * focus_pneumonia + -0.038 * focus_primbsi + -0.485 * focus_skin + -0.003 * focus_toxic_shock + -0.067 * focus_uti + 0.009 * focus_wound + -0.066 * cahai_ca + 0.02 * cahai_eos + -0.009 * cahai_hai + 0.137 * cahai_los.ca + -0.082 * cahai_los.hai\n",
      "PC 9 = 0.727 * focus_abdominal + 0.018 * focus_clabsi + -0.044 * focus_cns + -0.024 * focus_earnosethroat + -0.004 * focus_endocarditis + -0.067 * focus_osteoarticular + -0.003 * focus_other + -0.005 * focus_pneumonia + 0.003 * focus_primbsi + -0.657 * focus_skin + 0.001 * focus_toxic_shock + 0.087 * focus_uti + -0.032 * focus_wound + 0.032 * cahai_ca + 0.09 * cahai_eos + -0.029 * cahai_hai + -0.115 * cahai_los.ca + 0.022 * cahai_los.hai\n",
      "PC 10 = 0.294 * focus_abdominal + 0.09 * focus_clabsi + -0.041 * focus_cns + 0.133 * focus_earnosethroat + -0.021 * focus_endocarditis + 0.004 * focus_osteoarticular + -0.022 * focus_other + -0.045 * focus_pneumonia + -0.026 * focus_primbsi + 0.099 * focus_skin + 0.002 * focus_toxic_shock + -0.454 * focus_uti + -0.012 * focus_wound + -0.04 * cahai_ca + -0.305 * cahai_eos + -0.162 * cahai_hai + 0.71 * cahai_los.ca + -0.202 * cahai_los.hai\n",
      "PC 11 = 0.195 * focus_abdominal + 0.131 * focus_clabsi + -0.353 * focus_cns + -0.041 * focus_earnosethroat + -0.063 * focus_endocarditis + 0.213 * focus_osteoarticular + -0.092 * focus_other + 0.063 * focus_pneumonia + -0.274 * focus_primbsi + 0.313 * focus_skin + -0.007 * focus_toxic_shock + 0.025 * focus_uti + -0.111 * focus_wound + -0.157 * cahai_ca + 0.652 * cahai_eos + -0.203 * cahai_hai + -0.008 * cahai_los.ca + -0.284 * cahai_los.hai\n",
      "PC 12 = -0.211 * focus_abdominal + -0.091 * focus_clabsi + -0.27 * focus_cns + 0.508 * focus_earnosethroat + 0.192 * focus_endocarditis + -0.213 * focus_osteoarticular + 0.516 * focus_other + -0.174 * focus_pneumonia + -0.199 * focus_primbsi + -0.22 * focus_skin + 0.025 * focus_toxic_shock + -0.152 * focus_uti + 0.289 * focus_wound + -0.004 * cahai_ca + 0.172 * cahai_eos + -0.099 * cahai_hai + -0.029 * cahai_los.ca + -0.04 * cahai_los.hai\n",
      "PC 13 = 0.021 * focus_abdominal + 0.015 * focus_clabsi + 0.006 * focus_cns + -0.627 * focus_earnosethroat + -0.054 * focus_endocarditis + 0.025 * focus_osteoarticular + 0.755 * focus_other + 0.013 * focus_pneumonia + -0.005 * focus_primbsi + 0.025 * focus_skin + -0.004 * focus_toxic_shock + -0.025 * focus_uti + -0.146 * focus_wound + -0.024 * cahai_ca + -0.015 * cahai_eos + -0.01 * cahai_hai + 0.086 * cahai_los.ca + -0.037 * cahai_los.hai\n",
      "PC 14 = -0.012 * focus_abdominal + 0.024 * focus_clabsi + -0.052 * focus_cns + -0.434 * focus_earnosethroat + 0.011 * focus_endocarditis + -0.049 * focus_osteoarticular + -0.198 * focus_other + -0.044 * focus_pneumonia + -0.035 * focus_primbsi + -0.035 * focus_skin + 0.011 * focus_toxic_shock + -0.049 * focus_uti + 0.863 * focus_wound + 0.033 * cahai_ca + 0.049 * cahai_eos + -0.081 * cahai_hai + 0.049 * cahai_los.ca + -0.051 * cahai_los.hai\n",
      "PC 15 = -0.045 * focus_abdominal + -0.029 * focus_clabsi + -0.056 * focus_cns + -0.23 * focus_earnosethroat + 0.931 * focus_endocarditis + -0.041 * focus_osteoarticular + -0.162 * focus_other + -0.041 * focus_pneumonia + -0.051 * focus_primbsi + -0.043 * focus_skin + 0.01 * focus_toxic_shock + -0.057 * focus_uti + -0.185 * focus_wound + -0.014 * cahai_ca + 0.012 * cahai_eos + -0.016 * cahai_hai + 0.041 * cahai_los.ca + -0.023 * cahai_los.hai\n",
      "PC 16 = -0.077 * focus_abdominal + -0.074 * focus_clabsi + -0.076 * focus_cns + -0.089 * focus_earnosethroat + -0.095 * focus_endocarditis + -0.072 * focus_osteoarticular + -0.088 * focus_other + -0.071 * focus_pneumonia + -0.075 * focus_primbsi + -0.074 * focus_skin + 0.96 * focus_toxic_shock + -0.073 * focus_uti + -0.097 * focus_wound + -0.009 * cahai_ca + 0.001 * cahai_eos + 0.004 * cahai_hai + 0.002 * cahai_los.ca + 0.002 * cahai_los.hai\n",
      "PC 17 = 0.031 * focus_abdominal + 0.031 * focus_clabsi + 0.031 * focus_cns + 0.031 * focus_earnosethroat + 0.031 * focus_endocarditis + 0.031 * focus_osteoarticular + 0.031 * focus_other + 0.031 * focus_pneumonia + 0.031 * focus_primbsi + 0.031 * focus_skin + 0.031 * focus_toxic_shock + 0.031 * focus_uti + 0.031 * focus_wound + 0.444 * cahai_ca + 0.444 * cahai_eos + 0.444 * cahai_hai + 0.444 * cahai_los.ca + 0.444 * cahai_los.hai\n",
      "PC 18 = 0.276 * focus_abdominal + 0.276 * focus_clabsi + 0.276 * focus_cns + 0.276 * focus_earnosethroat + 0.276 * focus_endocarditis + 0.276 * focus_osteoarticular + 0.276 * focus_other + 0.276 * focus_pneumonia + 0.276 * focus_primbsi + 0.276 * focus_skin + 0.276 * focus_toxic_shock + 0.276 * focus_uti + 0.276 * focus_wound + -0.049 * cahai_ca + -0.049 * cahai_eos + -0.049 * cahai_hai + -0.049 * cahai_los.ca + -0.049 * cahai_los.hai\n",
      "--------------------------------------------------------------------------------\n",
      "pathogen:\n",
      "PC 1 = -0.004 * patho_candida + -0.06 * patho_cons + 0.833 * patho_ecoli + -0.007 * patho_enterococcus + -0.004 * patho_hinfluenzae + -0.01 * patho_klebsiella + -0.003 * patho_nmeningitidis + -0.036 * patho_othergneg + -0.005 * patho_othergpos + -0.01 * patho_paeruginosa + -0.034 * patho_sagalactiae + -0.541 * patho_saureus + -0.087 * patho_spneumoniae + -0.016 * patho_spyogenes + -0.016 * patho_viridansgroup\n",
      "PC 2 = -0.011 * patho_candida + -0.243 * patho_cons + 0.401 * patho_ecoli + -0.02 * patho_enterococcus + -0.011 * patho_hinfluenzae + -0.028 * patho_klebsiella + -0.007 * patho_nmeningitidis + -0.121 * patho_othergneg + -0.013 * patho_othergpos + -0.028 * patho_paeruginosa + -0.112 * patho_sagalactiae + 0.737 * patho_saureus + -0.45 * patho_spneumoniae + -0.047 * patho_spyogenes + -0.047 * patho_viridansgroup\n",
      "PC 3 = -0.007 * patho_candida + -0.619 * patho_cons + 0.115 * patho_ecoli + -0.014 * patho_enterococcus + -0.007 * patho_hinfluenzae + -0.019 * patho_klebsiella + -0.005 * patho_nmeningitidis + -0.123 * patho_othergneg + -0.009 * patho_othergpos + -0.019 * patho_paeruginosa + -0.11 * patho_sagalactiae + 0.144 * patho_saureus + 0.743 * patho_spneumoniae + -0.035 * patho_spyogenes + -0.035 * patho_viridansgroup\n",
      "PC 4 = 0.014 * patho_candida + -0.631 * patho_cons + -0.14 * patho_ecoli + 0.027 * patho_enterococcus + 0.014 * patho_hinfluenzae + 0.04 * patho_klebsiella + 0.009 * patho_nmeningitidis + 0.521 * patho_othergneg + 0.017 * patho_othergpos + 0.04 * patho_paeruginosa + 0.411 * patho_sagalactiae + -0.162 * patho_saureus + -0.315 * patho_spneumoniae + 0.078 * patho_spyogenes + 0.078 * patho_viridansgroup\n",
      "PC 5 = 0.003 * patho_candida + -0.048 * patho_cons + -0.019 * patho_ecoli + 0.005 * patho_enterococcus + 0.003 * patho_hinfluenzae + 0.008 * patho_klebsiella + 0.002 * patho_nmeningitidis + -0.676 * patho_othergneg + 0.003 * patho_othergpos + 0.008 * patho_paeruginosa + 0.734 * patho_sagalactiae + -0.022 * patho_saureus + -0.034 * patho_spneumoniae + 0.017 * patho_spyogenes + 0.017 * patho_viridansgroup\n",
      "PC 6 = 0.037 * patho_candida + -0.235 * patho_cons + -0.15 * patho_ecoli + 0.081 * patho_enterococcus + 0.037 * patho_hinfluenzae + 0.137 * patho_klebsiella + 0.022 * patho_nmeningitidis + -0.365 * patho_othergneg + 0.046 * patho_othergpos + 0.137 * patho_paeruginosa + -0.397 * patho_sagalactiae + -0.16 * patho_saureus + -0.203 * patho_spneumoniae + 0.508 * patho_spyogenes + 0.508 * patho_viridansgroup\n",
      "PC 7 = -0.0 * patho_candida + -0.0 * patho_cons + 0.0 * patho_ecoli + -0.0 * patho_enterococcus + 0.0 * patho_hinfluenzae + 0.0 * patho_klebsiella + -0.0 * patho_nmeningitidis + 0.0 * patho_othergneg + 0.0 * patho_othergpos + 0.0 * patho_paeruginosa + -0.0 * patho_sagalactiae + -0.0 * patho_saureus + 0.0 * patho_spneumoniae + 0.707 * patho_spyogenes + -0.707 * patho_viridansgroup\n",
      "PC 8 = 0.053 * patho_candida + -0.124 * patho_cons + -0.099 * patho_ecoli + 0.162 * patho_enterococcus + 0.053 * patho_hinfluenzae + 0.55 * patho_klebsiella + 0.029 * patho_nmeningitidis + -0.148 * patho_othergneg + 0.07 * patho_othergpos + 0.55 * patho_paeruginosa + -0.152 * patho_sagalactiae + -0.102 * patho_saureus + -0.116 * patho_spneumoniae + -0.364 * patho_spyogenes + -0.364 * patho_viridansgroup\n",
      "PC 9 = 0.0 * patho_candida + -0.0 * patho_cons + 0.0 * patho_ecoli + -0.0 * patho_enterococcus + -0.0 * patho_hinfluenzae + -0.707 * patho_klebsiella + 0.0 * patho_nmeningitidis + 0.0 * patho_othergneg + 0.0 * patho_othergpos + 0.707 * patho_paeruginosa + -0.0 * patho_sagalactiae + -0.0 * patho_saureus + 0.0 * patho_spneumoniae + 0.0 * patho_spyogenes + -0.0 * patho_viridansgroup\n",
      "PC 10 = 0.065 * patho_candida + -0.067 * patho_cons + -0.058 * patho_ecoli + 0.889 * patho_enterococcus + 0.065 * patho_hinfluenzae + -0.264 * patho_klebsiella + 0.03 * patho_nmeningitidis + -0.074 * patho_othergneg + 0.098 * patho_othergpos + -0.264 * patho_paeruginosa + -0.075 * patho_sagalactiae + -0.059 * patho_saureus + -0.064 * patho_spneumoniae + -0.112 * patho_spyogenes + -0.112 * patho_viridansgroup\n",
      "PC 11 = 0.262 * patho_candida + -0.087 * patho_cons + -0.079 * patho_ecoli + -0.299 * patho_enterococcus + 0.262 * patho_hinfluenzae + -0.172 * patho_klebsiella + 0.078 * patho_nmeningitidis + -0.093 * patho_othergneg + 0.796 * patho_othergpos + -0.172 * patho_paeruginosa + -0.094 * patho_sagalactiae + -0.081 * patho_saureus + -0.085 * patho_spneumoniae + -0.119 * patho_spyogenes + -0.119 * patho_viridansgroup\n",
      "PC 12 = 0.58 * patho_candida + -0.05 * patho_cons + -0.046 * patho_ecoli + -0.118 * patho_enterococcus + 0.58 * patho_hinfluenzae + -0.083 * patho_klebsiella + 0.069 * patho_nmeningitidis + -0.053 * patho_othergneg + -0.521 * patho_othergpos + -0.083 * patho_paeruginosa + -0.053 * patho_sagalactiae + -0.047 * patho_saureus + -0.049 * patho_spneumoniae + -0.064 * patho_spyogenes + -0.064 * patho_viridansgroup\n",
      "PC 13 = -0.707 * patho_candida + -0.0 * patho_cons + -0.0 * patho_ecoli + -0.0 * patho_enterococcus + 0.707 * patho_hinfluenzae + -0.0 * patho_klebsiella + 0.0 * patho_nmeningitidis + -0.0 * patho_othergneg + -0.0 * patho_othergpos + -0.0 * patho_paeruginosa + -0.0 * patho_sagalactiae + -0.0 * patho_saureus + -0.0 * patho_spneumoniae + -0.0 * patho_spyogenes + -0.0 * patho_viridansgroup\n",
      "PC 14 = -0.138 * patho_candida + -0.047 * patho_cons + -0.044 * patho_ecoli + -0.072 * patho_enterococcus + -0.138 * patho_hinfluenzae + -0.062 * patho_klebsiella + 0.959 * patho_nmeningitidis + -0.048 * patho_othergneg + -0.104 * patho_othergpos + -0.062 * patho_paeruginosa + -0.048 * patho_sagalactiae + -0.045 * patho_saureus + -0.046 * patho_spneumoniae + -0.054 * patho_spyogenes + -0.054 * patho_viridansgroup\n",
      "PC 15 = 0.258 * patho_candida + 0.258 * patho_cons + 0.258 * patho_ecoli + 0.258 * patho_enterococcus + 0.258 * patho_hinfluenzae + 0.258 * patho_klebsiella + 0.258 * patho_nmeningitidis + 0.258 * patho_othergneg + 0.258 * patho_othergpos + 0.258 * patho_paeruginosa + 0.258 * patho_sagalactiae + 0.258 * patho_saureus + 0.258 * patho_spneumoniae + 0.258 * patho_spyogenes + 0.258 * patho_viridansgroup\n",
      "--------------------------------------------------------------------------------\n",
      "treatment:\n",
      "PC 1 = 0.934 * abx.change.pen + -0.101 * abx.change.oxa + -0.003 * abx.change.pip + 0.171 * abx.change.cla + -0.023 * abx.change.cxm + -0.192 * abx.change.cro + 0.002 * abx.change.fep + -0.089 * abx.change.mem + 0.004 * abx.change.amk + -0.164 * abx.change.van + -0.01 * abx.change.cip + -0.004 * abx.change.lzd + 0.019 * abx.change.cli + 0.004 * abx.change.mtz + -0.002 * abx.change.sxt + -0.12 * niv + -0.001 * iv + 0.036 * hfnc + 0.007 * ecls + 0.0 * inotrope + -0.008 * crrt\n",
      "PC 2 = 0.014 * abx.change.pen + -0.0 * abx.change.oxa + 0.009 * abx.change.pip + 0.058 * abx.change.cla + -0.027 * abx.change.cxm + -0.027 * abx.change.cro + 0.009 * abx.change.fep + 0.078 * abx.change.mem + 0.032 * abx.change.amk + 0.03 * abx.change.van + -0.01 * abx.change.cip + 0.011 * abx.change.lzd + -0.005 * abx.change.cli + 0.016 * abx.change.mtz + -0.003 * abx.change.sxt + 0.152 * niv + 0.816 * iv + 0.075 * hfnc + 0.023 * ecls + 0.537 * inotrope + 0.048 * crrt\n",
      "PC 3 = 0.092 * abx.change.pen + -0.127 * abx.change.oxa + -0.007 * abx.change.pip + -0.018 * abx.change.cla + 0.002 * abx.change.cxm + -0.474 * abx.change.cro + -0.004 * abx.change.fep + 0.194 * abx.change.mem + -0.061 * abx.change.amk + 0.624 * abx.change.van + -0.016 * abx.change.cip + 0.011 * abx.change.lzd + -0.001 * abx.change.cli + -0.017 * abx.change.mtz + -0.001 * abx.change.sxt + 0.549 * niv + -0.096 * iv + -0.028 * hfnc + 0.009 * ecls + -0.09 * inotrope + -0.002 * crrt\n",
      "PC 4 = 0.166 * abx.change.pen + -0.505 * abx.change.oxa + -0.01 * abx.change.pip + -0.013 * abx.change.cla + -0.032 * abx.change.cxm + 0.746 * abx.change.cro + -0.027 * abx.change.fep + 0.016 * abx.change.mem + -0.051 * abx.change.amk + 0.087 * abx.change.van + 0.011 * abx.change.cip + -0.002 * abx.change.lzd + 0.031 * abx.change.cli + 0.017 * abx.change.mtz + -0.003 * abx.change.sxt + 0.38 * niv + -0.048 * iv + 0.014 * hfnc + 0.01 * ecls + -0.008 * inotrope + 0.003 * crrt\n",
      "PC 5 = 0.112 * abx.change.pen + 0.675 * abx.change.oxa + -0.004 * abx.change.pip + 0.045 * abx.change.cla + -0.055 * abx.change.cxm + 0.161 * abx.change.cro + -0.072 * abx.change.fep + -0.221 * abx.change.mem + 0.028 * abx.change.amk + -0.228 * abx.change.van + -0.007 * abx.change.cip + -0.011 * abx.change.lzd + 0.014 * abx.change.cli + -0.004 * abx.change.mtz + -0.004 * abx.change.sxt + 0.592 * niv + 0.049 * iv + -0.026 * hfnc + 0.017 * ecls + -0.198 * inotrope + 0.019 * crrt\n",
      "PC 6 = -0.105 * abx.change.pen + -0.268 * abx.change.oxa + -0.02 * abx.change.pip + -0.255 * abx.change.cla + 0.018 * abx.change.cxm + -0.304 * abx.change.cro + 0.041 * abx.change.fep + 0.005 * abx.change.mem + -0.078 * abx.change.amk + -0.597 * abx.change.van + 0.003 * abx.change.cip + -0.037 * abx.change.lzd + 0.044 * abx.change.cli + -0.004 * abx.change.mtz + 0.006 * abx.change.sxt + 0.369 * niv + -0.301 * iv + 0.052 * hfnc + 0.022 * ecls + 0.401 * inotrope + -0.022 * crrt\n",
      "PC 7 = 0.011 * abx.change.pen + -0.004 * abx.change.oxa + 0.004 * abx.change.pip + 0.081 * abx.change.cla + -0.048 * abx.change.cxm + -0.005 * abx.change.cro + -0.104 * abx.change.fep + 0.819 * abx.change.mem + -0.173 * abx.change.amk + -0.331 * abx.change.van + -0.002 * abx.change.cip + -0.008 * abx.change.lzd + -0.022 * abx.change.cli + -0.01 * abx.change.mtz + -0.0 * abx.change.sxt + 0.029 * niv + 0.175 * iv + -0.09 * hfnc + -0.01 * ecls + -0.359 * inotrope + -0.038 * crrt\n",
      "PC 8 = 0.199 * abx.change.pen + 0.39 * abx.change.oxa + -0.042 * abx.change.pip + -0.269 * abx.change.cla + -0.068 * abx.change.cxm + 0.227 * abx.change.cro + 0.001 * abx.change.fep + 0.453 * abx.change.mem + 0.239 * abx.change.amk + 0.206 * abx.change.van + -0.013 * abx.change.cip + -0.017 * abx.change.lzd + 0.043 * abx.change.cli + 0.02 * abx.change.mtz + -0.008 * abx.change.sxt + -0.102 * niv + -0.344 * iv + 0.007 * hfnc + 0.007 * ecls + 0.491 * inotrope + 0.011 * crrt\n",
      "PC 9 = -0.135 * abx.change.pen + -0.046 * abx.change.oxa + 0.082 * abx.change.pip + 0.708 * abx.change.cla + 0.038 * abx.change.cxm + -0.01 * abx.change.cro + 0.25 * abx.change.fep + 0.133 * abx.change.mem + 0.49 * abx.change.amk + -0.071 * abx.change.van + -0.005 * abx.change.cip + -0.019 * abx.change.lzd + -0.034 * abx.change.cli + -0.023 * abx.change.mtz + -0.001 * abx.change.sxt + 0.114 * niv + -0.17 * iv + 0.305 * hfnc + -0.015 * ecls + 0.069 * inotrope + -0.062 * crrt\n",
      "PC 10 = 0.045 * abx.change.pen + -0.158 * abx.change.oxa + 0.052 * abx.change.pip + -0.426 * abx.change.cla + 0.156 * abx.change.cxm + -0.068 * abx.change.cro + -0.071 * abx.change.fep + -0.003 * abx.change.mem + 0.787 * abx.change.amk + -0.084 * abx.change.van + -0.007 * abx.change.cip + 0.009 * abx.change.lzd + -0.02 * abx.change.cli + -0.01 * abx.change.mtz + 0.0 * abx.change.sxt + 0.048 * niv + 0.186 * iv + -0.133 * hfnc + 0.0 * ecls + -0.27 * inotrope + -0.005 * crrt\n",
      "PC 11 = 0.048 * abx.change.pen + 0.044 * abx.change.oxa + -0.05 * abx.change.pip + -0.362 * abx.change.cla + -0.173 * abx.change.cxm + 0.018 * abx.change.cro + 0.562 * abx.change.fep + 0.035 * abx.change.mem + -0.086 * abx.change.amk + 0.013 * abx.change.van + -0.007 * abx.change.cip + 0.011 * abx.change.lzd + -0.037 * abx.change.cli + -0.012 * abx.change.mtz + -0.002 * abx.change.sxt + -0.012 * niv + 0.104 * iv + 0.665 * hfnc + -0.019 * ecls + -0.22 * inotrope + -0.066 * crrt\n",
      "PC 12 = 0.041 * abx.change.pen + 0.066 * abx.change.oxa + -0.043 * abx.change.pip + -0.025 * abx.change.cla + 0.871 * abx.change.cxm + 0.045 * abx.change.cro + -0.14 * abx.change.fep + 0.063 * abx.change.mem + -0.123 * abx.change.amk + 0.01 * abx.change.van + -0.019 * abx.change.cip + -0.007 * abx.change.lzd + -0.02 * abx.change.cli + -0.004 * abx.change.mtz + -0.007 * abx.change.sxt + 0.006 * niv + -0.013 * iv + 0.329 * hfnc + 0.04 * ecls + -0.008 * inotrope + 0.287 * crrt\n",
      "PC 13 = 0.04 * abx.change.pen + 0.036 * abx.change.oxa + -0.017 * abx.change.pip + 0.021 * abx.change.cla + 0.261 * abx.change.cxm + 0.046 * abx.change.cro + 0.76 * abx.change.fep + 0.033 * abx.change.mem + -0.061 * abx.change.amk + -0.023 * abx.change.van + -0.015 * abx.change.cip + -0.005 * abx.change.lzd + 0.014 * abx.change.cli + 0.01 * abx.change.mtz + -0.006 * abx.change.sxt + 0.032 * niv + 0.026 * iv + -0.56 * hfnc + 0.038 * ecls + 0.014 * inotrope + 0.162 * crrt\n",
      "PC 14 = -0.019 * abx.change.pen + 0.018 * abx.change.oxa + 0.011 * abx.change.pip + 0.013 * abx.change.cla + 0.12 * abx.change.cxm + -0.006 * abx.change.cro + 0.023 * abx.change.fep + 0.004 * abx.change.mem + -0.006 * abx.change.amk + 0.019 * abx.change.van + -0.023 * abx.change.cip + 0.015 * abx.change.lzd + 0.939 * abx.change.cli + -0.011 * abx.change.mtz + -0.003 * abx.change.sxt + -0.016 * niv + 0.049 * iv + 0.02 * hfnc + -0.086 * ecls + -0.032 * inotrope + -0.3 * crrt\n",
      "PC 15 = -0.034 * abx.change.pen + -0.048 * abx.change.oxa + 0.039 * abx.change.pip + 0.027 * abx.change.cla + -0.298 * abx.change.cxm + -0.041 * abx.change.cro + -0.03 * abx.change.fep + 0.017 * abx.change.mem + 0.066 * abx.change.amk + -0.022 * abx.change.van + 0.005 * abx.change.cip + -0.009 * abx.change.lzd + 0.328 * abx.change.cli + -0.054 * abx.change.mtz + 0.005 * abx.change.sxt + -0.025 * niv + -0.028 * iv + 0.071 * hfnc + 0.204 * ecls + -0.065 * inotrope + 0.857 * crrt\n",
      "PC 16 = 0.013 * abx.change.pen + 0.014 * abx.change.oxa + -0.018 * abx.change.pip + -0.001 * abx.change.cla + 0.023 * abx.change.cxm + -0.012 * abx.change.cro + 0.013 * abx.change.fep + 0.011 * abx.change.mem + 0.008 * abx.change.amk + 0.009 * abx.change.van + 0.999 * abx.change.cip + 0.001 * abx.change.lzd + 0.019 * abx.change.cli + -0.02 * abx.change.mtz + -0.008 * abx.change.sxt + 0.008 * niv + 0.008 * iv + 0.003 * hfnc + 0.006 * ecls + 0.004 * inotrope + -0.006 * crrt\n",
      "PC 17 = -0.008 * abx.change.pen + 0.002 * abx.change.oxa + 0.178 * abx.change.pip + -0.001 * abx.change.cla + -0.006 * abx.change.cxm + -0.025 * abx.change.cro + 0.005 * abx.change.fep + 0.007 * abx.change.mem + -0.001 * abx.change.amk + -0.001 * abx.change.van + 0.023 * abx.change.cip + -0.013 * abx.change.lzd + 0.022 * abx.change.cli + 0.982 * abx.change.mtz + 0.0 * abx.change.sxt + 0.008 * niv + -0.011 * iv + 0.024 * hfnc + 0.0 * ecls + -0.026 * inotrope + 0.037 * crrt\n",
      "PC 18 = 0.029 * abx.change.pen + 0.028 * abx.change.oxa + 0.974 * abx.change.pip + -0.074 * abx.change.cla + 0.032 * abx.change.cxm + 0.022 * abx.change.cro + 0.019 * abx.change.fep + 0.008 * abx.change.mem + -0.088 * abx.change.amk + 0.015 * abx.change.van + 0.014 * abx.change.cip + -0.019 * abx.change.lzd + -0.022 * abx.change.cli + -0.175 * abx.change.mtz + -0.016 * abx.change.sxt + -0.001 * niv + -0.017 * iv + 0.014 * hfnc + 0.005 * ecls + 0.029 * inotrope + -0.022 * crrt\n",
      "PC 19 = 0.007 * abx.change.pen + 0.007 * abx.change.oxa + 0.015 * abx.change.pip + -0.001 * abx.change.cla + 0.008 * abx.change.cxm + 0.007 * abx.change.cro + 0.005 * abx.change.fep + 0.004 * abx.change.mem + -0.0 * abx.change.amk + 0.006 * abx.change.van + 0.008 * abx.change.cip + -0.008 * abx.change.lzd + 0.002 * abx.change.cli + -0.003 * abx.change.mtz + 1.0 * abx.change.sxt + 0.002 * niv + 0.002 * iv + 0.001 * hfnc + 0.012 * ecls + 0.002 * inotrope + -0.005 * crrt\n",
      "PC 20 = 0.001 * abx.change.pen + 0.005 * abx.change.oxa + 0.021 * abx.change.pip + 0.008 * abx.change.cla + 0.005 * abx.change.cxm + 0.002 * abx.change.cro + 0.002 * abx.change.fep + 0.012 * abx.change.mem + 0.001 * abx.change.amk + -0.032 * abx.change.van + -0.0 * abx.change.cip + 0.995 * abx.change.lzd + -0.008 * abx.change.cli + 0.01 * abx.change.mtz + 0.007 * abx.change.sxt + 0.011 * niv + -0.03 * iv + 0.002 * hfnc + 0.083 * ecls + 0.018 * inotrope + -0.005 * crrt\n",
      "PC 21 = -0.01 * abx.change.pen + 0.006 * abx.change.oxa + -0.011 * abx.change.pip + 0.005 * abx.change.cla + 0.025 * abx.change.cxm + 0.005 * abx.change.cro + -0.002 * abx.change.fep + -0.0 * abx.change.mem + -0.003 * abx.change.amk + 0.015 * abx.change.van + -0.007 * abx.change.cip + -0.081 * abx.change.lzd + 0.012 * abx.change.cli + 0.009 * abx.change.mtz + -0.014 * abx.change.sxt + -0.027 * niv + 0.004 * iv + 0.01 * hfnc + 0.969 * ecls + -0.019 * inotrope + -0.228 * crrt\n",
      "--------------------------------------------------------------------------------\n"
     ]
    }
   ],
   "source": [
    "for key, value in binarys.items():\n",
    "    subdata = clinical_view[value]\n",
    "    pca = PCA()\n",
    "    subdata = pca.fit_transform(subdata)\n",
    "    print('{}:'.format(key))\n",
    "    for pc in range(len(pca.components_.T)):\n",
    "        f = ' + '.join(['{} * {}'.format(pca.components_.T[k, pc].round(3), value[k]) for k in range(len(value))])\n",
    "        print('PC {} = {}'.format(pc + 1, f))\n",
    "    print('-' * 80)"
   ]
  },
  {
   "cell_type": "code",
   "execution_count": 53,
   "metadata": {
    "scrolled": true
   },
   "outputs": [],
   "source": [
    "continous_cols = [col for col in all_cols if col not in binary_cols] \n",
    "clinical_continous = clinical_view[continous_cols]\n",
    "clinical_binary_pcas = pd.concat(binary_data, 1)\n",
    "clinical_binary_pcas.columns = pc_cols\n",
    "clinical_view_PCA = pd.concat([clinical_continous, clinical_binary_pcas], 1)\n",
    "clinical_view_PCA.to_csv('data/ClinicalView_binary_pca_95%.csv')\n",
    "\n",
    "sc = StandardScaler()\n",
    "clinical_continous[clinical_continous.columns] = sc.fit_transform(clinical_continous)\n",
    "clinical_binary_pcas[pc_cols] = sc.fit_transform(clinical_binary_pcas)\n",
    "clinical_view_PCA = pd.concat([clinical_continous, clinical_binary_pcas], 1)\n",
    "clinical_view_PCA.to_csv('data/ClinicalViewStandardized_binary_pca_95%.csv')"
   ]
  },
  {
   "cell_type": "code",
   "execution_count": 55,
   "metadata": {},
   "outputs": [],
   "source": [
    "proteome_view[proteome_view.columns] = sc.fit_transform(proteome_view)\n",
    "proteome_view.to_csv('data/ProteomeViewStandardized.csv')"
   ]
  },
  {
   "cell_type": "code",
   "execution_count": 56,
   "metadata": {},
   "outputs": [],
   "source": [
    "kcc_input_sub = {}\n",
    "kcc_input_sub['Cov'] = np.vstack((physio_view['age.at.bc'].values, contextual_view['sex'].values)).T\n",
    "kcc_input_sub['Clinical'] = clinical_view_new.values\n",
    "kcc_input_sub['Clinical_PCA'] = clinical_view_PCA.values\n",
    "kcc_input_sub['Proteome'] = proteome_view.values\n",
    "savemat('data/TwoViews_AgeSex_NormalImputation_PCA95%.mat', kcc_input_sub) "
   ]
  },
  {
   "cell_type": "markdown",
   "metadata": {},
   "source": [
    "## assign sample id to KCC processed data"
   ]
  },
  {
   "cell_type": "code",
   "execution_count": 3,
   "metadata": {},
   "outputs": [
    {
     "ename": "FileNotFoundError",
     "evalue": "[Errno 2] No such file or directory: 'data/KCC_clinical_NormalImputation_PCA95%_K_2.csv'",
     "output_type": "error",
     "traceback": [
      "\u001b[0;31m---------------------------------------------------------------------------\u001b[0m",
      "\u001b[0;31mFileNotFoundError\u001b[0m                         Traceback (most recent call last)",
      "\u001b[0;32m<ipython-input-3-60a79f8b3ee3>\u001b[0m in \u001b[0;36m<module>\u001b[0;34m\u001b[0m\n\u001b[1;32m      1\u001b[0m \u001b[0;32mfor\u001b[0m \u001b[0mk\u001b[0m \u001b[0;32min\u001b[0m \u001b[0;34m[\u001b[0m\u001b[0;36m2\u001b[0m\u001b[0;34m,\u001b[0m \u001b[0;36m3\u001b[0m\u001b[0;34m,\u001b[0m \u001b[0;36m4\u001b[0m\u001b[0;34m,\u001b[0m \u001b[0;36m5\u001b[0m\u001b[0;34m,\u001b[0m \u001b[0;36m6\u001b[0m\u001b[0;34m]\u001b[0m\u001b[0;34m:\u001b[0m\u001b[0;34m\u001b[0m\u001b[0;34m\u001b[0m\u001b[0m\n\u001b[0;32m----> 2\u001b[0;31m     \u001b[0mkcc\u001b[0m \u001b[0;34m=\u001b[0m \u001b[0mpd\u001b[0m\u001b[0;34m.\u001b[0m\u001b[0mread_csv\u001b[0m\u001b[0;34m(\u001b[0m\u001b[0;34m'data/KCC_clinical_NormalImputation_PCA95%_K_{}.csv'\u001b[0m\u001b[0;34m.\u001b[0m\u001b[0mformat\u001b[0m\u001b[0;34m(\u001b[0m\u001b[0mk\u001b[0m\u001b[0;34m)\u001b[0m\u001b[0;34m,\u001b[0m \u001b[0mheader\u001b[0m\u001b[0;34m=\u001b[0m\u001b[0;32mNone\u001b[0m\u001b[0;34m)\u001b[0m\u001b[0;34m\u001b[0m\u001b[0;34m\u001b[0m\u001b[0m\n\u001b[0m\u001b[1;32m      3\u001b[0m     \u001b[0mkcc\u001b[0m\u001b[0;34m.\u001b[0m\u001b[0mcolumns\u001b[0m \u001b[0;34m=\u001b[0m \u001b[0;34m[\u001b[0m\u001b[0;34m'KCC {}'\u001b[0m\u001b[0;34m.\u001b[0m\u001b[0mformat\u001b[0m\u001b[0;34m(\u001b[0m\u001b[0mi\u001b[0m\u001b[0;34m)\u001b[0m \u001b[0;32mfor\u001b[0m \u001b[0mi\u001b[0m \u001b[0;32min\u001b[0m \u001b[0mrange\u001b[0m\u001b[0;34m(\u001b[0m\u001b[0;36m1\u001b[0m\u001b[0;34m,\u001b[0m \u001b[0mk\u001b[0m\u001b[0;34m+\u001b[0m\u001b[0;36m1\u001b[0m\u001b[0;34m)\u001b[0m\u001b[0;34m]\u001b[0m\u001b[0;34m\u001b[0m\u001b[0;34m\u001b[0m\u001b[0m\n\u001b[1;32m      4\u001b[0m     \u001b[0mkcc\u001b[0m\u001b[0;34m.\u001b[0m\u001b[0mindex\u001b[0m \u001b[0;34m=\u001b[0m \u001b[0mclinical_view_new\u001b[0m\u001b[0;34m.\u001b[0m\u001b[0mindex\u001b[0m\u001b[0;34m\u001b[0m\u001b[0;34m\u001b[0m\u001b[0m\n\u001b[1;32m      5\u001b[0m     \u001b[0mkcc\u001b[0m\u001b[0;34m.\u001b[0m\u001b[0mto_csv\u001b[0m\u001b[0;34m(\u001b[0m\u001b[0;34m'data/KCC_clinical_NormalImputation_PCA95%_K_{}.csv'\u001b[0m\u001b[0;34m.\u001b[0m\u001b[0mformat\u001b[0m\u001b[0;34m(\u001b[0m\u001b[0mk\u001b[0m\u001b[0;34m)\u001b[0m\u001b[0;34m)\u001b[0m\u001b[0;34m\u001b[0m\u001b[0;34m\u001b[0m\u001b[0m\n",
      "\u001b[0;32m~/opt/anaconda3/lib/python3.7/site-packages/pandas/io/parsers.py\u001b[0m in \u001b[0;36mread_csv\u001b[0;34m(filepath_or_buffer, sep, delimiter, header, names, index_col, usecols, squeeze, prefix, mangle_dupe_cols, dtype, engine, converters, true_values, false_values, skipinitialspace, skiprows, skipfooter, nrows, na_values, keep_default_na, na_filter, verbose, skip_blank_lines, parse_dates, infer_datetime_format, keep_date_col, date_parser, dayfirst, cache_dates, iterator, chunksize, compression, thousands, decimal, lineterminator, quotechar, quoting, doublequote, escapechar, comment, encoding, dialect, error_bad_lines, warn_bad_lines, delim_whitespace, low_memory, memory_map, float_precision)\u001b[0m\n\u001b[1;32m    684\u001b[0m     )\n\u001b[1;32m    685\u001b[0m \u001b[0;34m\u001b[0m\u001b[0m\n\u001b[0;32m--> 686\u001b[0;31m     \u001b[0;32mreturn\u001b[0m \u001b[0m_read\u001b[0m\u001b[0;34m(\u001b[0m\u001b[0mfilepath_or_buffer\u001b[0m\u001b[0;34m,\u001b[0m \u001b[0mkwds\u001b[0m\u001b[0;34m)\u001b[0m\u001b[0;34m\u001b[0m\u001b[0;34m\u001b[0m\u001b[0m\n\u001b[0m\u001b[1;32m    687\u001b[0m \u001b[0;34m\u001b[0m\u001b[0m\n\u001b[1;32m    688\u001b[0m \u001b[0;34m\u001b[0m\u001b[0m\n",
      "\u001b[0;32m~/opt/anaconda3/lib/python3.7/site-packages/pandas/io/parsers.py\u001b[0m in \u001b[0;36m_read\u001b[0;34m(filepath_or_buffer, kwds)\u001b[0m\n\u001b[1;32m    450\u001b[0m \u001b[0;34m\u001b[0m\u001b[0m\n\u001b[1;32m    451\u001b[0m     \u001b[0;31m# Create the parser.\u001b[0m\u001b[0;34m\u001b[0m\u001b[0;34m\u001b[0m\u001b[0;34m\u001b[0m\u001b[0m\n\u001b[0;32m--> 452\u001b[0;31m     \u001b[0mparser\u001b[0m \u001b[0;34m=\u001b[0m \u001b[0mTextFileReader\u001b[0m\u001b[0;34m(\u001b[0m\u001b[0mfp_or_buf\u001b[0m\u001b[0;34m,\u001b[0m \u001b[0;34m**\u001b[0m\u001b[0mkwds\u001b[0m\u001b[0;34m)\u001b[0m\u001b[0;34m\u001b[0m\u001b[0;34m\u001b[0m\u001b[0m\n\u001b[0m\u001b[1;32m    453\u001b[0m \u001b[0;34m\u001b[0m\u001b[0m\n\u001b[1;32m    454\u001b[0m     \u001b[0;32mif\u001b[0m \u001b[0mchunksize\u001b[0m \u001b[0;32mor\u001b[0m \u001b[0miterator\u001b[0m\u001b[0;34m:\u001b[0m\u001b[0;34m\u001b[0m\u001b[0;34m\u001b[0m\u001b[0m\n",
      "\u001b[0;32m~/opt/anaconda3/lib/python3.7/site-packages/pandas/io/parsers.py\u001b[0m in \u001b[0;36m__init__\u001b[0;34m(self, f, engine, **kwds)\u001b[0m\n\u001b[1;32m    934\u001b[0m             \u001b[0mself\u001b[0m\u001b[0;34m.\u001b[0m\u001b[0moptions\u001b[0m\u001b[0;34m[\u001b[0m\u001b[0;34m\"has_index_names\"\u001b[0m\u001b[0;34m]\u001b[0m \u001b[0;34m=\u001b[0m \u001b[0mkwds\u001b[0m\u001b[0;34m[\u001b[0m\u001b[0;34m\"has_index_names\"\u001b[0m\u001b[0;34m]\u001b[0m\u001b[0;34m\u001b[0m\u001b[0;34m\u001b[0m\u001b[0m\n\u001b[1;32m    935\u001b[0m \u001b[0;34m\u001b[0m\u001b[0m\n\u001b[0;32m--> 936\u001b[0;31m         \u001b[0mself\u001b[0m\u001b[0;34m.\u001b[0m\u001b[0m_make_engine\u001b[0m\u001b[0;34m(\u001b[0m\u001b[0mself\u001b[0m\u001b[0;34m.\u001b[0m\u001b[0mengine\u001b[0m\u001b[0;34m)\u001b[0m\u001b[0;34m\u001b[0m\u001b[0;34m\u001b[0m\u001b[0m\n\u001b[0m\u001b[1;32m    937\u001b[0m \u001b[0;34m\u001b[0m\u001b[0m\n\u001b[1;32m    938\u001b[0m     \u001b[0;32mdef\u001b[0m \u001b[0mclose\u001b[0m\u001b[0;34m(\u001b[0m\u001b[0mself\u001b[0m\u001b[0;34m)\u001b[0m\u001b[0;34m:\u001b[0m\u001b[0;34m\u001b[0m\u001b[0;34m\u001b[0m\u001b[0m\n",
      "\u001b[0;32m~/opt/anaconda3/lib/python3.7/site-packages/pandas/io/parsers.py\u001b[0m in \u001b[0;36m_make_engine\u001b[0;34m(self, engine)\u001b[0m\n\u001b[1;32m   1166\u001b[0m     \u001b[0;32mdef\u001b[0m \u001b[0m_make_engine\u001b[0m\u001b[0;34m(\u001b[0m\u001b[0mself\u001b[0m\u001b[0;34m,\u001b[0m \u001b[0mengine\u001b[0m\u001b[0;34m=\u001b[0m\u001b[0;34m\"c\"\u001b[0m\u001b[0;34m)\u001b[0m\u001b[0;34m:\u001b[0m\u001b[0;34m\u001b[0m\u001b[0;34m\u001b[0m\u001b[0m\n\u001b[1;32m   1167\u001b[0m         \u001b[0;32mif\u001b[0m \u001b[0mengine\u001b[0m \u001b[0;34m==\u001b[0m \u001b[0;34m\"c\"\u001b[0m\u001b[0;34m:\u001b[0m\u001b[0;34m\u001b[0m\u001b[0;34m\u001b[0m\u001b[0m\n\u001b[0;32m-> 1168\u001b[0;31m             \u001b[0mself\u001b[0m\u001b[0;34m.\u001b[0m\u001b[0m_engine\u001b[0m \u001b[0;34m=\u001b[0m \u001b[0mCParserWrapper\u001b[0m\u001b[0;34m(\u001b[0m\u001b[0mself\u001b[0m\u001b[0;34m.\u001b[0m\u001b[0mf\u001b[0m\u001b[0;34m,\u001b[0m \u001b[0;34m**\u001b[0m\u001b[0mself\u001b[0m\u001b[0;34m.\u001b[0m\u001b[0moptions\u001b[0m\u001b[0;34m)\u001b[0m\u001b[0;34m\u001b[0m\u001b[0;34m\u001b[0m\u001b[0m\n\u001b[0m\u001b[1;32m   1169\u001b[0m         \u001b[0;32melse\u001b[0m\u001b[0;34m:\u001b[0m\u001b[0;34m\u001b[0m\u001b[0;34m\u001b[0m\u001b[0m\n\u001b[1;32m   1170\u001b[0m             \u001b[0;32mif\u001b[0m \u001b[0mengine\u001b[0m \u001b[0;34m==\u001b[0m \u001b[0;34m\"python\"\u001b[0m\u001b[0;34m:\u001b[0m\u001b[0;34m\u001b[0m\u001b[0;34m\u001b[0m\u001b[0m\n",
      "\u001b[0;32m~/opt/anaconda3/lib/python3.7/site-packages/pandas/io/parsers.py\u001b[0m in \u001b[0;36m__init__\u001b[0;34m(self, src, **kwds)\u001b[0m\n\u001b[1;32m   1996\u001b[0m         \u001b[0mkwds\u001b[0m\u001b[0;34m[\u001b[0m\u001b[0;34m\"usecols\"\u001b[0m\u001b[0;34m]\u001b[0m \u001b[0;34m=\u001b[0m \u001b[0mself\u001b[0m\u001b[0;34m.\u001b[0m\u001b[0musecols\u001b[0m\u001b[0;34m\u001b[0m\u001b[0;34m\u001b[0m\u001b[0m\n\u001b[1;32m   1997\u001b[0m \u001b[0;34m\u001b[0m\u001b[0m\n\u001b[0;32m-> 1998\u001b[0;31m         \u001b[0mself\u001b[0m\u001b[0;34m.\u001b[0m\u001b[0m_reader\u001b[0m \u001b[0;34m=\u001b[0m \u001b[0mparsers\u001b[0m\u001b[0;34m.\u001b[0m\u001b[0mTextReader\u001b[0m\u001b[0;34m(\u001b[0m\u001b[0msrc\u001b[0m\u001b[0;34m,\u001b[0m \u001b[0;34m**\u001b[0m\u001b[0mkwds\u001b[0m\u001b[0;34m)\u001b[0m\u001b[0;34m\u001b[0m\u001b[0;34m\u001b[0m\u001b[0m\n\u001b[0m\u001b[1;32m   1999\u001b[0m         \u001b[0mself\u001b[0m\u001b[0;34m.\u001b[0m\u001b[0munnamed_cols\u001b[0m \u001b[0;34m=\u001b[0m \u001b[0mself\u001b[0m\u001b[0;34m.\u001b[0m\u001b[0m_reader\u001b[0m\u001b[0;34m.\u001b[0m\u001b[0munnamed_cols\u001b[0m\u001b[0;34m\u001b[0m\u001b[0;34m\u001b[0m\u001b[0m\n\u001b[1;32m   2000\u001b[0m \u001b[0;34m\u001b[0m\u001b[0m\n",
      "\u001b[0;32mpandas/_libs/parsers.pyx\u001b[0m in \u001b[0;36mpandas._libs.parsers.TextReader.__cinit__\u001b[0;34m()\u001b[0m\n",
      "\u001b[0;32mpandas/_libs/parsers.pyx\u001b[0m in \u001b[0;36mpandas._libs.parsers.TextReader._setup_parser_source\u001b[0;34m()\u001b[0m\n",
      "\u001b[0;31mFileNotFoundError\u001b[0m: [Errno 2] No such file or directory: 'data/KCC_clinical_NormalImputation_PCA95%_K_2.csv'"
     ]
    }
   ],
   "source": [
    "for k in [2, 3, 4, 5, 6]:\n",
    "    kcc = pd.read_csv('data/KCC_clinical_PCA_NormalImputation_PCA95%_K_{}.csv'.format(k), header=None)\n",
    "    kcc.columns = ['KCC {}'.format(i) for i in range(1, k+1)]\n",
    "    kcc.index = clinical_view_new.index\n",
    "    kcc.to_csv('data/KCC_clinical_PCA_NormalImputation_PCA95%_K_{}.csv'.format(k))\n",
    "    \n",
    "    kcc = pd.read_csv('data/KCC_proteome_NormalImputation_PCA95%_K_{}.csv'.format(k), header=None)\n",
    "    kcc.columns = ['KCC {}'.format(i) for i in range(1, k+1)]\n",
    "    kcc.index = clinical_view_new.index\n",
    "    kcc.to_csv('data/KCC_proteome_NormalImputation_PCA95%_K_{}.csv'.format(k))\n",
    "    "
   ]
  },
  {
   "cell_type": "code",
   "execution_count": null,
   "metadata": {},
   "outputs": [],
   "source": []
  }
 ],
 "metadata": {
  "kernelspec": {
   "display_name": "Python 3",
   "language": "python",
   "name": "python3"
  },
  "language_info": {
   "codemirror_mode": {
    "name": "ipython",
    "version": 3
   },
   "file_extension": ".py",
   "mimetype": "text/x-python",
   "name": "python",
   "nbconvert_exporter": "python",
   "pygments_lexer": "ipython3",
   "version": "3.7.6"
  },
  "varInspector": {
   "cols": {
    "lenName": 16,
    "lenType": 16,
    "lenVar": 40
   },
   "kernels_config": {
    "python": {
     "delete_cmd_postfix": "",
     "delete_cmd_prefix": "del ",
     "library": "var_list.py",
     "varRefreshCmd": "print(var_dic_list())"
    },
    "r": {
     "delete_cmd_postfix": ") ",
     "delete_cmd_prefix": "rm(",
     "library": "var_list.r",
     "varRefreshCmd": "cat(var_dic_list()) "
    }
   },
   "types_to_exclude": [
    "module",
    "function",
    "builtin_function_or_method",
    "instance",
    "_Feature"
   ],
   "window_display": false
  }
 },
 "nbformat": 4,
 "nbformat_minor": 5
}
