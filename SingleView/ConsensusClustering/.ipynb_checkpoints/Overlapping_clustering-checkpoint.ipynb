{
 "cells": [
  {
   "cell_type": "code",
   "execution_count": 1,
   "id": "1618ecf2",
   "metadata": {},
   "outputs": [
    {
     "name": "stderr",
     "output_type": "stream",
     "text": [
      "/tmp/ipykernel_1799804/2989028256.py:5: DeprecationWarning: Importing display from IPython.core.display is deprecated since IPython 7.14, please import from IPython display\n",
      "  from IPython.core.display import display\n"
     ]
    }
   ],
   "source": [
    "import pandas as pd\n",
    "import matplotlib.pyplot as plt\n",
    "import numpy as np\n",
    "from matplotlib import colors\n",
    "from IPython.core.display import display\n",
    "import warnings\n",
    "warnings.filterwarnings(\"ignore\")"
   ]
  },
  {
   "cell_type": "code",
   "execution_count": 2,
   "id": "43fa26fb",
   "metadata": {},
   "outputs": [],
   "source": [
    "def background_gradient(s, m=None, M=None, cmap='Blues', low=0, high=0.5):\n",
    "    if m is None:\n",
    "        m = s.min().min()\n",
    "    if M is None:\n",
    "        M = s.max().max()\n",
    "    rng = M - m\n",
    "    norm = colors.Normalize(m - (rng * low),\n",
    "                            M + (rng * high))\n",
    "    normed = s.apply(norm)\n",
    "\n",
    "    cm = plt.cm.get_cmap(cmap)\n",
    "    c = normed.applymap(lambda x: colors.rgb2hex(cm(x)))\n",
    "    ret = c.applymap(lambda x: 'background-color: %s' % x)\n",
    "    return ret\n"
   ]
  },
  {
   "cell_type": "code",
   "execution_count": 4,
   "id": "94bb4aac",
   "metadata": {},
   "outputs": [],
   "source": [
    "Cov = \"_CovNotStandardized\"\n",
    "data_path = \"data{}/\".format(Cov)\n",
    "score_path = \"{}/Clustering_silhouette/\".format(data_path)\n",
    "cdf_path = \"{}/CDF plots/\".format(data_path)\n",
    "tsne_path = \"{}/TSNEplots/\".format(data_path)\n",
    "refer_id = pd.read_csv(\"data/ProteomeViewMICEimputed.csv\", index_col=0)"
   ]
  },
  {
   "cell_type": "markdown",
   "id": "584fa2f1",
   "metadata": {},
   "source": [
    "# clinical view\n",
    "## W/O mean centering  K = 4\n",
    "## W/ mean centering  K = 4"
   ]
  },
  {
   "cell_type": "code",
   "execution_count": 5,
   "id": "4740de5d",
   "metadata": {},
   "outputs": [],
   "source": [
    "view = 'clinical'\n",
    "KCC_space_1 = 4 \n",
    "KCC_space_2 = 4 "
   ]
  },
  {
   "cell_type": "code",
   "execution_count": 7,
   "id": "b4572a39",
   "metadata": {},
   "outputs": [],
   "source": [
    "assignment1 = pd.read_csv(\n",
    "    \"../../MultiOmicsAnalysis/ConsensusClustering/{}/ConsensusKMeans_{}_view_KCC_{}_assignments.csv\".format(\n",
    "        score_path, view, KCC_space_1\n",
    "    ),\n",
    "    index_col=0,\n",
    ")\n",
    "assignment2 = pd.read_csv(\n",
    "    \"{}/ConsensusKMeans_{}_view_KCC_{}_assignments.csv\".format(\n",
    "        score_path, view, KCC_space_2\n",
    "    ),\n",
    "    index_col=0,\n",
    ")"
   ]
  },
  {
   "cell_type": "code",
   "execution_count": 9,
   "id": "b4554e78",
   "metadata": {
    "scrolled": true
   },
   "outputs": [
    {
     "data": {
      "text/html": [
       "<style type=\"text/css\">\n",
       "#T_c9ed5_row0_col0, #T_c9ed5_row2_col1, #T_c9ed5_row2_col2 {\n",
       "  background-color: #f7fbff;\n",
       "}\n",
       "#T_c9ed5_row0_col1, #T_c9ed5_row3_col2 {\n",
       "  background-color: #e3eef8;\n",
       "}\n",
       "#T_c9ed5_row0_col2 {\n",
       "  background-color: #c4daee;\n",
       "}\n",
       "#T_c9ed5_row0_col3, #T_c9ed5_row2_col3 {\n",
       "  background-color: #f5f9fe;\n",
       "}\n",
       "#T_c9ed5_row1_col0 {\n",
       "  background-color: #f5fafe;\n",
       "}\n",
       "#T_c9ed5_row1_col1 {\n",
       "  background-color: #bdd7ec;\n",
       "}\n",
       "#T_c9ed5_row1_col2 {\n",
       "  background-color: #d0e1f2;\n",
       "}\n",
       "#T_c9ed5_row1_col3 {\n",
       "  background-color: #f1f7fd;\n",
       "}\n",
       "#T_c9ed5_row2_col0 {\n",
       "  background-color: #3787c0;\n",
       "}\n",
       "#T_c9ed5_row3_col0 {\n",
       "  background-color: #f6faff;\n",
       "}\n",
       "#T_c9ed5_row3_col1 {\n",
       "  background-color: #e9f2fa;\n",
       "}\n",
       "#T_c9ed5_row3_col3 {\n",
       "  background-color: #b2d2e8;\n",
       "}\n",
       "</style>\n",
       "<table id=\"T_c9ed5\">\n",
       "  <thead>\n",
       "    <tr>\n",
       "      <th class=\"blank level0\" >&nbsp;</th>\n",
       "      <th id=\"T_c9ed5_level0_col0\" class=\"col_heading level0 col0\" >KMeans 1</th>\n",
       "      <th id=\"T_c9ed5_level0_col1\" class=\"col_heading level0 col1\" >KMeans 2</th>\n",
       "      <th id=\"T_c9ed5_level0_col2\" class=\"col_heading level0 col2\" >KMeans 3</th>\n",
       "      <th id=\"T_c9ed5_level0_col3\" class=\"col_heading level0 col3\" >KMeans 4</th>\n",
       "    </tr>\n",
       "  </thead>\n",
       "  <tbody>\n",
       "    <tr>\n",
       "      <th id=\"T_c9ed5_level0_row0\" class=\"row_heading level0 row0\" >KMeans 1</th>\n",
       "      <td id=\"T_c9ed5_row0_col0\" class=\"data row0 col0\" >0.000</td>\n",
       "      <td id=\"T_c9ed5_row0_col1\" class=\"data row0 col1\" >0.137</td>\n",
       "      <td id=\"T_c9ed5_row0_col2\" class=\"data row0 col2\" >0.340</td>\n",
       "      <td id=\"T_c9ed5_row0_col3\" class=\"data row0 col3\" >0.020</td>\n",
       "    </tr>\n",
       "    <tr>\n",
       "      <th id=\"T_c9ed5_level0_row1\" class=\"row_heading level0 row1\" >KMeans 2</th>\n",
       "      <td id=\"T_c9ed5_row1_col0\" class=\"data row1 col0\" >0.015</td>\n",
       "      <td id=\"T_c9ed5_row1_col1\" class=\"data row1 col1\" >0.373</td>\n",
       "      <td id=\"T_c9ed5_row1_col2\" class=\"data row1 col2\" >0.266</td>\n",
       "      <td id=\"T_c9ed5_row1_col3\" class=\"data row1 col3\" >0.045</td>\n",
       "    </tr>\n",
       "    <tr>\n",
       "      <th id=\"T_c9ed5_level0_row2\" class=\"row_heading level0 row2\" >KMeans 3</th>\n",
       "      <td id=\"T_c9ed5_row2_col0\" class=\"data row2 col0\" >0.885</td>\n",
       "      <td id=\"T_c9ed5_row2_col1\" class=\"data row2 col1\" >0.000</td>\n",
       "      <td id=\"T_c9ed5_row2_col2\" class=\"data row2 col2\" >0.000</td>\n",
       "      <td id=\"T_c9ed5_row2_col3\" class=\"data row2 col3\" >0.019</td>\n",
       "    </tr>\n",
       "    <tr>\n",
       "      <th id=\"T_c9ed5_level0_row3\" class=\"row_heading level0 row3\" >KMeans 4</th>\n",
       "      <td id=\"T_c9ed5_row3_col0\" class=\"data row3 col0\" >0.007</td>\n",
       "      <td id=\"T_c9ed5_row3_col1\" class=\"data row3 col1\" >0.097</td>\n",
       "      <td id=\"T_c9ed5_row3_col2\" class=\"data row3 col2\" >0.137</td>\n",
       "      <td id=\"T_c9ed5_row3_col3\" class=\"data row3 col3\" >0.420</td>\n",
       "    </tr>\n",
       "  </tbody>\n",
       "</table>\n"
      ],
      "text/plain": [
       "<pandas.io.formats.style.Styler at 0x14a28aab21f0>"
      ]
     },
     "metadata": {},
     "output_type": "display_data"
    }
   ],
   "source": [
    "agreement_mat = pd.DataFrame(\n",
    "    index=[\n",
    "        \"KMeans {}\".format(i)\n",
    "        for i in sorted(assignment1[\"assignment\"].unique())\n",
    "    ],\n",
    "    columns=[\n",
    "        \"KMeans {}\".format(i)\n",
    "        for i in sorted(assignment2[\"assignment\"].unique())\n",
    "    ],\n",
    ")\n",
    "\n",
    "for cluster1 in sorted(assignment1[\"assignment\"].unique()):\n",
    "    for cluster2 in sorted(assignment2[\"assignment\"].unique()):\n",
    "        index_1 = assignment1[assignment1[\"assignment\"] == cluster1].index\n",
    "        index_2 = assignment2[assignment2[\"assignment\"] == cluster2].index\n",
    "        len_overlap = len(list(set(index_1).intersection(set(index_2))))\n",
    "        len_union = len(set(index_1).union(set(index_2)))\n",
    "        agreement_mat.loc[\n",
    "            \"KMeans {}\".format(cluster1), \"KMeans {}\".format(cluster2)\n",
    "        ] = (len_overlap / len_union)\n",
    "agreement_mat = agreement_mat.astype(float)\n",
    "display(\n",
    "    agreement_mat.style.set_precision(3).apply(background_gradient, axis=None)\n",
    ")"
   ]
  },
  {
   "cell_type": "markdown",
   "id": "18528803",
   "metadata": {},
   "source": [
    "# contextual view\n",
    "## W/O mean centering  K = 4\n",
    "## W/ mean centering  K = 3"
   ]
  },
  {
   "cell_type": "code",
   "execution_count": 10,
   "id": "0cfd6969",
   "metadata": {},
   "outputs": [],
   "source": [
    "view = 'contextual'\n",
    "KCC_space_1 = 4 \n",
    "KCC_space_2 = 3 \n",
    "\n",
    "assignment1 = pd.read_csv(\n",
    "    \"../../MultiOmicsAnalysis/ConsensusClustering/{}/ConsensusKMeans_{}_view_KCC_{}_assignments.csv\".format(\n",
    "        score_path, view, KCC_space_1\n",
    "    ),\n",
    "    index_col=0,\n",
    ")\n",
    "assignment2 = pd.read_csv(\n",
    "    \"{}/ConsensusKMeans_{}_view_KCC_{}_assignments.csv\".format(\n",
    "        score_path, view, KCC_space_2\n",
    "    ),\n",
    "    index_col=0,\n",
    ")"
   ]
  },
  {
   "cell_type": "code",
   "execution_count": 11,
   "id": "36b26c75",
   "metadata": {},
   "outputs": [
    {
     "data": {
      "text/html": [
       "<style type=\"text/css\">\n",
       "#T_6db5b_row0_col0 {\n",
       "  background-color: #caddf0;\n",
       "}\n",
       "#T_6db5b_row0_col1 {\n",
       "  background-color: #dce9f6;\n",
       "}\n",
       "#T_6db5b_row0_col2 {\n",
       "  background-color: #4292c6;\n",
       "}\n",
       "#T_6db5b_row1_col0 {\n",
       "  background-color: #d9e7f5;\n",
       "}\n",
       "#T_6db5b_row1_col1 {\n",
       "  background-color: #dfecf7;\n",
       "}\n",
       "#T_6db5b_row1_col2 {\n",
       "  background-color: #f3f8fe;\n",
       "}\n",
       "#T_6db5b_row2_col0 {\n",
       "  background-color: #9dcae1;\n",
       "}\n",
       "#T_6db5b_row2_col1 {\n",
       "  background-color: #3787c0;\n",
       "}\n",
       "#T_6db5b_row2_col2 {\n",
       "  background-color: #f7fbff;\n",
       "}\n",
       "#T_6db5b_row3_col0 {\n",
       "  background-color: #b4d3e9;\n",
       "}\n",
       "#T_6db5b_row3_col1 {\n",
       "  background-color: #91c3de;\n",
       "}\n",
       "#T_6db5b_row3_col2 {\n",
       "  background-color: #cee0f2;\n",
       "}\n",
       "</style>\n",
       "<table id=\"T_6db5b\">\n",
       "  <thead>\n",
       "    <tr>\n",
       "      <th class=\"blank level0\" >&nbsp;</th>\n",
       "      <th id=\"T_6db5b_level0_col0\" class=\"col_heading level0 col0\" >KMeans 1</th>\n",
       "      <th id=\"T_6db5b_level0_col1\" class=\"col_heading level0 col1\" >KMeans 2</th>\n",
       "      <th id=\"T_6db5b_level0_col2\" class=\"col_heading level0 col2\" >KMeans 3</th>\n",
       "    </tr>\n",
       "  </thead>\n",
       "  <tbody>\n",
       "    <tr>\n",
       "      <th id=\"T_6db5b_level0_row0\" class=\"row_heading level0 row0\" >KMeans 1</th>\n",
       "      <td id=\"T_6db5b_row0_col0\" class=\"data row0 col0\" >0.140</td>\n",
       "      <td id=\"T_6db5b_row0_col1\" class=\"data row0 col1\" >0.088</td>\n",
       "      <td id=\"T_6db5b_row0_col2\" class=\"data row0 col2\" >0.359</td>\n",
       "    </tr>\n",
       "    <tr>\n",
       "      <th id=\"T_6db5b_level0_row1\" class=\"row_heading level0 row1\" >KMeans 2</th>\n",
       "      <td id=\"T_6db5b_row1_col0\" class=\"data row1 col0\" >0.096</td>\n",
       "      <td id=\"T_6db5b_row1_col1\" class=\"data row1 col1\" >0.077</td>\n",
       "      <td id=\"T_6db5b_row1_col2\" class=\"data row1 col2\" >0.021</td>\n",
       "    </tr>\n",
       "    <tr>\n",
       "      <th id=\"T_6db5b_level0_row2\" class=\"row_heading level0 row2\" >KMeans 3</th>\n",
       "      <td id=\"T_6db5b_row2_col0\" class=\"data row2 col0\" >0.220</td>\n",
       "      <td id=\"T_6db5b_row2_col1\" class=\"data row2 col1\" >0.383</td>\n",
       "      <td id=\"T_6db5b_row2_col2\" class=\"data row2 col2\" >0.010</td>\n",
       "    </tr>\n",
       "    <tr>\n",
       "      <th id=\"T_6db5b_level0_row3\" class=\"row_heading level0 row3\" >KMeans 4</th>\n",
       "      <td id=\"T_6db5b_row3_col0\" class=\"data row3 col0\" >0.182</td>\n",
       "      <td id=\"T_6db5b_row3_col1\" class=\"data row3 col1\" >0.239</td>\n",
       "      <td id=\"T_6db5b_row3_col2\" class=\"data row3 col2\" >0.127</td>\n",
       "    </tr>\n",
       "  </tbody>\n",
       "</table>\n"
      ],
      "text/plain": [
       "<pandas.io.formats.style.Styler at 0x14a28b4b3e50>"
      ]
     },
     "metadata": {},
     "output_type": "display_data"
    }
   ],
   "source": [
    "agreement_mat = pd.DataFrame(\n",
    "    index=[\n",
    "        \"KMeans {}\".format(i)\n",
    "        for i in sorted(assignment1[\"assignment\"].unique())\n",
    "    ],\n",
    "    columns=[\n",
    "        \"KMeans {}\".format(i)\n",
    "        for i in sorted(assignment2[\"assignment\"].unique())\n",
    "    ],\n",
    ")\n",
    "\n",
    "for cluster1 in sorted(assignment1[\"assignment\"].unique()):\n",
    "    for cluster2 in sorted(assignment2[\"assignment\"].unique()):\n",
    "        index_1 = assignment1[assignment1[\"assignment\"] == cluster1].index\n",
    "        index_2 = assignment2[assignment2[\"assignment\"] == cluster2].index\n",
    "        len_overlap = len(list(set(index_1).intersection(set(index_2))))\n",
    "        len_union = len(set(index_1).union(set(index_2)))\n",
    "        agreement_mat.loc[\n",
    "            \"KMeans {}\".format(cluster1), \"KMeans {}\".format(cluster2)\n",
    "        ] = (len_overlap / len_union)\n",
    "agreement_mat = agreement_mat.astype(float)\n",
    "display(\n",
    "    agreement_mat.style.set_precision(3).apply(background_gradient, axis=None)\n",
    ")"
   ]
  },
  {
   "cell_type": "code",
   "execution_count": null,
   "id": "651f6596",
   "metadata": {},
   "outputs": [],
   "source": [
    "# Physio\n",
    "## W/O mean centering K = 3\n",
    "## W/ mean centering K = 4"
   ]
  }
 ],
 "metadata": {
  "kernelspec": {
   "display_name": "Python 3 (ipykernel)",
   "language": "python",
   "name": "python3"
  },
  "language_info": {
   "codemirror_mode": {
    "name": "ipython",
    "version": 3
   },
   "file_extension": ".py",
   "mimetype": "text/x-python",
   "name": "python",
   "nbconvert_exporter": "python",
   "pygments_lexer": "ipython3",
   "version": "3.8.10"
  }
 },
 "nbformat": 4,
 "nbformat_minor": 5
}
