{
 "cells": [
  {
   "cell_type": "code",
   "execution_count": 1,
   "id": "f48c882f",
   "metadata": {},
   "outputs": [],
   "source": [
    "import pandas as pd\n",
    "import numpy as np"
   ]
  },
  {
   "cell_type": "markdown",
   "id": "eaa64e19",
   "metadata": {},
   "source": [
    "# SingleView"
   ]
  },
  {
   "cell_type": "code",
   "execution_count": 2,
   "id": "06e4b000",
   "metadata": {},
   "outputs": [],
   "source": [
    "data_path = \"data/\"\n",
    "score_path = \"{}/ClusteringResults/\".format(data_path)\n"
   ]
  },
  {
   "cell_type": "code",
   "execution_count": 4,
   "id": "fc540c66",
   "metadata": {},
   "outputs": [],
   "source": [
    "view, KCC_space, method = [\"physio\", 4, \"ConsensusKMeans\"]\n",
    "\n",
    "assignment = pd.read_csv(\n",
    "    \"{}/{}_{}_view_KCC_{}_assignments.csv\".format(score_path, method, view, KCC_space),\n",
    "    index_col=0,\n",
    ")\n",
    "assignment[\"assignment\"].replace([2, 3, 4, 1], [4, 3, 2, 1]).to_csv(\n",
    "    \"{}/{}_{}_view_KCC_{}_assignments_ranked.csv\".format(\n",
    "        score_path, method, view, KCC_space\n",
    "    )\n",
    ")"
   ]
  },
  {
   "cell_type": "code",
   "execution_count": 21,
   "id": "5dfe39d3",
   "metadata": {},
   "outputs": [],
   "source": [
    "view, KCC_space, method = [\"contextual\", 6, \"DBSCAN\"]\n",
    "\n",
    "assignment = pd.read_csv(\n",
    "    \"{}/{}_{}_view_KCC_{}_assignments.csv\".format(score_path, method, view, KCC_space),\n",
    "    index_col=0,\n",
    ")\n",
    "assignment[\"assignment\"] = assignment[\"assignment\"] + 1\n",
    "assignment[\"assignment\"] = (\n",
    "    assignment[\"assignment\"].replace([7, 1, 2, 5, 4, 3, 6], [7, 6, 5, 4, 3, 2, 1]) - 1\n",
    ")\n",
    "assignment.to_csv(\n",
    "    \"{}/{}_{}_view_KCC_{}_assignments_ranked.csv\".format(\n",
    "        score_path, method, view, KCC_space\n",
    "    )\n",
    ")"
   ]
  },
  {
   "cell_type": "code",
   "execution_count": 22,
   "id": "372d2f48",
   "metadata": {},
   "outputs": [],
   "source": [
    "view, KCC_space, method = [\"clinical\", 4, \"DBSCAN\"]\n",
    "\n",
    "assignment = pd.read_csv(\n",
    "    \"{}/{}_{}_view_KCC_{}_assignments.csv\".format(score_path, method, view, KCC_space),\n",
    "    index_col=0,\n",
    ")\n",
    "assignment[\"assignment\"] = assignment[\"assignment\"] + 1\n",
    "assignment[\"assignment\"] = (\n",
    "    assignment[\"assignment\"].replace([1, 5, 2, 3, 4], [5, 4, 3, 2, 1]) - 1\n",
    ")\n",
    "assignment.to_csv(\n",
    "    \"{}/{}_{}_view_KCC_{}_assignments_ranked.csv\".format(\n",
    "        score_path, method, view, KCC_space\n",
    "    )\n",
    ")"
   ]
  },
  {
   "cell_type": "code",
   "execution_count": 23,
   "id": "cd4d54b7",
   "metadata": {},
   "outputs": [],
   "source": [
    "view, KCC_space, method = [\"proteome\", 5, \"DBSCAN\"]\n",
    "\n",
    "assignment = pd.read_csv(\n",
    "    \"{}/{}_{}_view_KCC_{}_assignments.csv\".format(score_path, method, view, KCC_space),\n",
    "    index_col=0,\n",
    ")\n",
    "assignment[\"assignment\"] = assignment[\"assignment\"] + 1\n",
    "assignment[\"assignment\"] = assignment[\"assignment\"].replace([3, 1, 2], [3, 2, 1]) - 1\n",
    "assignment.to_csv(\n",
    "    \"{}/{}_{}_view_KCC_{}_assignments_ranked.csv\".format(\n",
    "        score_path, method, view, KCC_space\n",
    "    )\n",
    ")"
   ]
  },
  {
   "cell_type": "markdown",
   "id": "076ab2e3",
   "metadata": {},
   "source": [
    "# MVKDR"
   ]
  },
  {
   "cell_type": "code",
   "execution_count": 3,
   "id": "52cf1d90",
   "metadata": {},
   "outputs": [],
   "source": [
    "data_path = \"data/\"\n",
    "score_path = \"{}/MVKDR_results/\".format(data_path)\n"
   ]
  },
  {
   "cell_type": "code",
   "execution_count": 3,
   "id": "9cd317b9",
   "metadata": {},
   "outputs": [],
   "source": [
    "assignment = pd.read_csv('{}/proteome_clinical_K_4_assignments.csv'.format(score_path), index_col=0)\n",
    "assignment.columns = ['assignment']\n",
    "assignment[\"assignment\"] = assignment[\"assignment\"] + 1\n",
    "assignment[\"assignment\"] = assignment[\"assignment\"].replace([2,1,3,4], [4,3,2,1])\n",
    "assignment.to_csv('{}/proteome_clinical_K_4_assignments_ranked.csv'.format(score_path))"
   ]
  },
  {
   "cell_type": "code",
   "execution_count": null,
   "id": "1b6eed5f",
   "metadata": {},
   "outputs": [],
   "source": []
  }
 ],
 "metadata": {
  "kernelspec": {
   "display_name": "Python 3 (ipykernel)",
   "language": "python",
   "name": "python3"
  },
  "language_info": {
   "codemirror_mode": {
    "name": "ipython",
    "version": 3
   },
   "file_extension": ".py",
   "mimetype": "text/x-python",
   "name": "python",
   "nbconvert_exporter": "python",
   "pygments_lexer": "ipython3",
   "version": "3.8.10"
  }
 },
 "nbformat": 4,
 "nbformat_minor": 5
}
